{
 "cells": [
  {
   "cell_type": "markdown",
   "metadata": {},
   "source": [
    "# Project: Identify Customer Segments\n",
    "\n",
    "In this project, you will apply unsupervised learning techniques to identify segments of the population that form the core customer base for a mail-order sales company in Germany. These segments can then be used to direct marketing campaigns towards audiences that will have the highest expected rate of returns. The data that you will use has been provided by our partners at Bertelsmann Arvato Analytics, and represents a real-life data science task.\n",
    "\n",
    "This notebook will help you complete this task by providing a framework within which you will perform your analysis steps. In each step of the project, you will see some text describing the subtask that you will perform, followed by one or more code cells for you to complete your work. **Feel free to add additional code and markdown cells as you go along so that you can explore everything in precise chunks.** The code cells provided in the base template will outline only the major tasks, and will usually not be enough to cover all of the minor tasks that comprise it.\n",
    "\n",
    "It should be noted that while there will be precise guidelines on how you should handle certain tasks in the project, there will also be places where an exact specification is not provided. **There will be times in the project where you will need to make and justify your own decisions on how to treat the data.** These are places where there may not be only one way to handle the data. In real-life tasks, there may be many valid ways to approach an analysis task. One of the most important things you can do is clearly document your approach so that other scientists can understand the decisions you've made.\n",
    "\n",
    "At the end of most sections, there will be a Markdown cell labeled **Discussion**. In these cells, you will report your findings for the completed section, as well as document the decisions that you made in your approach to each subtask. **Your project will be evaluated not just on the code used to complete the tasks outlined, but also your communication about your observations and conclusions at each stage.**"
   ]
  },
  {
   "cell_type": "code",
   "execution_count": 1,
   "metadata": {},
   "outputs": [
    {
     "data": {
      "text/plain": [
       "'\\nImport note: The classroom currently uses sklearn version 0.19.\\nIf you need to use an imputer, it is available in sklearn.preprocessing.Imputer,\\ninstead of sklearn.impute as in newer versions of sklearn.\\n'"
      ]
     },
     "execution_count": 1,
     "metadata": {},
     "output_type": "execute_result"
    }
   ],
   "source": [
    "# import libraries here; add more as necessary\n",
    "import numpy as np\n",
    "import pandas as pd\n",
    "import matplotlib.pyplot as plt\n",
    "import seaborn as sns\n",
    "\n",
    "# magic word for producing visualizations in notebook\n",
    "%matplotlib inline\n",
    "\n",
    "'''\n",
    "Import note: The classroom currently uses sklearn version 0.19.\n",
    "If you need to use an imputer, it is available in sklearn.preprocessing.Imputer,\n",
    "instead of sklearn.impute as in newer versions of sklearn.\n",
    "'''"
   ]
  },
  {
   "cell_type": "markdown",
   "metadata": {},
   "source": [
    "### Step 0: Load the Data\n",
    "\n",
    "There are four files associated with this project (not including this one):\n",
    "\n",
    "- `Udacity_AZDIAS_Subset.csv`: Demographics data for the general population of Germany; 891211 persons (rows) x 85 features (columns).\n",
    "- `Udacity_CUSTOMERS_Subset.csv`: Demographics data for customers of a mail-order company; 191652 persons (rows) x 85 features (columns).\n",
    "- `Data_Dictionary.md`: Detailed information file about the features in the provided datasets.\n",
    "- `AZDIAS_Feature_Summary.csv`: Summary of feature attributes for demographics data; 85 features (rows) x 4 columns\n",
    "\n",
    "Each row of the demographics files represents a single person, but also includes information outside of individuals, including information about their household, building, and neighborhood. You will use this information to cluster the general population into groups with similar demographic properties. Then, you will see how the people in the customers dataset fit into those created clusters. The hope here is that certain clusters are over-represented in the customers data, as compared to the general population; those over-represented clusters will be assumed to be part of the core userbase. This information can then be used for further applications, such as targeting for a marketing campaign.\n",
    "\n",
    "To start off with, load in the demographics data for the general population into a pandas DataFrame, and do the same for the feature attributes summary. Note for all of the `.csv` data files in this project: they're semicolon (`;`) delimited, so you'll need an additional argument in your [`read_csv()`](https://pandas.pydata.org/pandas-docs/stable/generated/pandas.read_csv.html) call to read in the data properly. Also, considering the size of the main dataset, it may take some time for it to load completely.\n",
    "\n",
    "Once the dataset is loaded, it's recommended that you take a little bit of time just browsing the general structure of the dataset and feature summary file. You'll be getting deep into the innards of the cleaning in the first major step of the project, so gaining some general familiarity can help you get your bearings."
   ]
  },
  {
   "cell_type": "code",
   "execution_count": 2,
   "metadata": {},
   "outputs": [],
   "source": [
    "# Load in the general demographics data.\n",
    "azdias = pd.read_csv(\"Udacity_AZDIAS_Subset.csv\", sep=';')\n",
    "azidasOrig = azdias\n",
    "# Load in the feature summary file.\n",
    "feat_info = pd.read_csv(\"AZDIAS_Feature_Summary.csv\", error_bad_lines=False, sep=';')"
   ]
  },
  {
   "cell_type": "code",
   "execution_count": 3,
   "metadata": {},
   "outputs": [
    {
     "name": "stdout",
     "output_type": "stream",
     "text": [
      "   AGER_TYP  ALTERSKATEGORIE_GROB  ANREDE_KZ  CJT_GESAMTTYP  \\\n",
      "0        -1                     2          1            2.0   \n",
      "1        -1                     1          2            5.0   \n",
      "2        -1                     3          2            3.0   \n",
      "3         2                     4          2            2.0   \n",
      "4        -1                     3          1            5.0   \n",
      "\n",
      "   FINANZ_MINIMALIST  FINANZ_SPARER  FINANZ_VORSORGER  FINANZ_ANLEGER  \\\n",
      "0                  3              4                 3               5   \n",
      "1                  1              5                 2               5   \n",
      "2                  1              4                 1               2   \n",
      "3                  4              2                 5               2   \n",
      "4                  4              3                 4               1   \n",
      "\n",
      "   FINANZ_UNAUFFAELLIGER  FINANZ_HAUSBAUER  ...  PLZ8_ANTG1  PLZ8_ANTG2  \\\n",
      "0                      5                 3  ...         NaN         NaN   \n",
      "1                      4                 5  ...         2.0         3.0   \n",
      "2                      3                 5  ...         3.0         3.0   \n",
      "3                      1                 2  ...         2.0         2.0   \n",
      "4                      3                 2  ...         2.0         4.0   \n",
      "\n",
      "   PLZ8_ANTG3  PLZ8_ANTG4  PLZ8_BAUMAX  PLZ8_HHZ  PLZ8_GBZ  ARBEIT  \\\n",
      "0         NaN         NaN          NaN       NaN       NaN     NaN   \n",
      "1         2.0         1.0          1.0       5.0       4.0     3.0   \n",
      "2         1.0         0.0          1.0       4.0       4.0     3.0   \n",
      "3         2.0         0.0          1.0       3.0       4.0     2.0   \n",
      "4         2.0         1.0          2.0       3.0       3.0     4.0   \n",
      "\n",
      "   ORTSGR_KLS9  RELAT_AB  \n",
      "0          NaN       NaN  \n",
      "1          5.0       4.0  \n",
      "2          5.0       2.0  \n",
      "3          3.0       3.0  \n",
      "4          6.0       5.0  \n",
      "\n",
      "[5 rows x 85 columns]\n",
      "              attribute information_level         type missing_or_unknown\n",
      "0              AGER_TYP            person  categorical             [-1,0]\n",
      "1  ALTERSKATEGORIE_GROB            person      ordinal           [-1,0,9]\n",
      "2             ANREDE_KZ            person  categorical             [-1,0]\n",
      "3         CJT_GESAMTTYP            person  categorical                [0]\n",
      "4     FINANZ_MINIMALIST            person      ordinal               [-1]\n"
     ]
    }
   ],
   "source": [
    "# Check the structure of the data after it's loaded (e.g. print the number of)\n",
    "# rows and columns, print the first few rows).\n",
    "\n",
    "print(azdias.head())\n",
    "print(feat_info.head())"
   ]
  },
  {
   "cell_type": "markdown",
   "metadata": {},
   "source": [
    "> **Tip**: Add additional cells to keep everything in reasonably-sized chunks! Keyboard shortcut `esc --> a` (press escape to enter command mode, then press the 'A' key) adds a new cell before the active cell, and `esc --> b` adds a new cell after the active cell. If you need to convert an active cell to a markdown cell, use `esc --> m` and to convert to a code cell, use `esc --> y`. \n",
    "\n",
    "## Step 1: Preprocessing\n",
    "\n",
    "### Step 1.1: Assess Missing Data\n",
    "\n",
    "The feature summary file contains a summary of properties for each demographics data column. You will use this file to help you make cleaning decisions during this stage of the project. First of all, you should assess the demographics data in terms of missing data. Pay attention to the following points as you perform your analysis, and take notes on what you observe. Make sure that you fill in the **Discussion** cell with your findings and decisions at the end of each step that has one!\n",
    "\n",
    "#### Step 1.1.1: Convert Missing Value Codes to NaNs\n",
    "The fourth column of the feature attributes summary (loaded in above as `feat_info`) documents the codes from the data dictionary that indicate missing or unknown data. While the file encodes this as a list (e.g. `[-1,0]`), this will get read in as a string object. You'll need to do a little bit of parsing to make use of it to identify and clean the data. Convert data that matches a 'missing' or 'unknown' value code into a numpy NaN value. You might want to see how much data takes on a 'missing' or 'unknown' code, and how much data is naturally missing, as a point of interest.\n",
    "\n",
    "**As one more reminder, you are encouraged to add additional cells to break up your analysis into manageable chunks.**"
   ]
  },
  {
   "cell_type": "code",
   "execution_count": 4,
   "metadata": {},
   "outputs": [],
   "source": [
    "# Identify missing or unknown data values and convert them to NaNs.\n",
    "\n",
    "for index, row in feat_info.iterrows():\n",
    "    column = row['attribute']\n",
    "    nullVals = row['missing_or_unknown'].replace('[','').replace(']','').split(',')\n",
    "    #print( column, nullVals)\n",
    "    for nullval in nullVals:\n",
    "        try:\n",
    "            azdias[column].replace(int(nullval), np.nan, inplace=True)\n",
    "        except ValueError:    \n",
    "            azdias[column].replace(nullval, np.nan, inplace=True)\n",
    "        \n",
    "\n",
    "\n"
   ]
  },
  {
   "cell_type": "markdown",
   "metadata": {},
   "source": [
    "#### Step 1.1.2: Assess Missing Data in Each Column\n",
    "\n",
    "How much missing data is present in each column? There are a few columns that are outliers in terms of the proportion of values that are missing. You will want to use matplotlib's [`hist()`](https://matplotlib.org/api/_as_gen/matplotlib.pyplot.hist.html) function to visualize the distribution of missing value counts to find these columns. Identify and document these columns. While some of these columns might have justifications for keeping or re-encoding the data, for this project you should just remove them from the dataframe. (Feel free to make remarks about these outlier columns in the discussion, however!)\n",
    "\n",
    "For the remaining features, are there any patterns in which columns have, or share, missing data?"
   ]
  },
  {
   "cell_type": "code",
   "execution_count": 5,
   "metadata": {},
   "outputs": [
    {
     "data": {
      "text/plain": [
       "<matplotlib.axes._subplots.AxesSubplot at 0x1f6a007b208>"
      ]
     },
     "execution_count": 5,
     "metadata": {},
     "output_type": "execute_result"
    },
    {
     "data": {
      "image/png": "[encoded data removed]",
      "text/plain": [
       "<Figure size 2160x720 with 1 Axes>"
      ]
     },
     "metadata": {
      "needs_background": "light"
     },
     "output_type": "display_data"
    }
   ],
   "source": [
    "# Perform an assessment of how much missing data there is in each column of the\n",
    "# dataset.\n",
    "columnNullMap = azdias.isna().sum(axis=0)\n",
    "\n",
    "#https://pythonspot.com/matplotlib-bar-chart/\n",
    "plt.figure(figsize=(30,10)) \n",
    "columnNullMap.plot(kind='bar')\n",
    "\n"
   ]
  },
  {
   "cell_type": "code",
   "execution_count": 6,
   "metadata": {},
   "outputs": [],
   "source": [
    "# Investigate patterns in the amount of missing data in each column.\n",
    "# Title, Ager_Typ and KK_KundenTyp, Kbaos_BAumax, and Geburstjahr stands out from the other columns as those most missing data.\n"
   ]
  },
  {
   "cell_type": "code",
   "execution_count": 7,
   "metadata": {},
   "outputs": [
    {
     "name": "stdout",
     "output_type": "stream",
     "text": [
      "Removing 6 Columns  because they have more than 200000 nulls\n",
      "AGER_TYP        685843\n",
      "GEBURTSJAHR     392318\n",
      "TITEL_KZ        889061\n",
      "ALTER_HH        310267\n",
      "KK_KUNDENTYP    584612\n",
      "KBA05_BAUMAX    476524\n",
      "dtype: int64\n",
      "(891221, 85)\n",
      "(891221, 79)\n"
     ]
    }
   ],
   "source": [
    "# Remove the outlier columns from the dataset. (You'll perform other data\n",
    "# engineering tasks such as re-encoding and imputation later.)\n",
    "\n",
    "treshold = 200000 \n",
    "toRemove= columnNullMap[columnNullMap >= treshold]\n",
    "print(\"Removing {c} Columns  because they have more than {n} nulls\".format(c=toRemove.shape[0], n=treshold))\n",
    "\n",
    "print(toRemove)\n",
    "\n",
    "print(azdias.shape)\n",
    "azdias.drop(toRemove.index, axis=1,inplace=True)\n",
    "print(azdias.shape)\n"
   ]
  },
  {
   "cell_type": "markdown",
   "metadata": {},
   "source": [
    "#### Discussion 1.1.2: Assess Missing Data in Each Column\n",
    "\n",
    "By looking at the barchart we can see that alot of columns have more than 12% null values. \n",
    "I find and remove columns with more than 12% nulls. The worst columns are Ager_Typ, and Titel_Kz \n",
    "after cleaning 27 columns out of 85 vas removed."
   ]
  },
  {
   "cell_type": "markdown",
   "metadata": {},
   "source": [
    "#### Step 1.1.3: Assess Missing Data in Each Row\n",
    "\n",
    "Now, you'll perform a similar assessment for the rows of the dataset. How much data is missing in each row? As with the columns, you should see some groups of points that have a very different numbers of missing values. Divide the data into two subsets: one for data points that are above some threshold for missing values, and a second subset for points below that threshold.\n",
    "\n",
    "In order to know what to do with the outlier rows, we should see if the distribution of data values on columns that are not missing data (or are missing very little data) are similar or different between the two groups. Select at least five of these columns and compare the distribution of values.\n",
    "- You can use seaborn's [`countplot()`](https://seaborn.pydata.org/generated/seaborn.countplot.html) function to create a bar chart of code frequencies and matplotlib's [`subplot()`](https://matplotlib.org/api/_as_gen/matplotlib.pyplot.subplot.html) function to put bar charts for the two subplots side by side.\n",
    "- To reduce repeated code, you might want to write a function that can perform this comparison, taking as one of its arguments a column to be compared.\n",
    "\n",
    "Depending on what you observe in your comparison, this will have implications on how you approach your conclusions later in the analysis. If the distributions of non-missing features look similar between the data with many missing values and the data with few or no missing values, then we could argue that simply dropping those points from the analysis won't present a major issue. On the other hand, if the data with many missing values looks very different from the data with few or no missing values, then we should make a note on those data as special. We'll revisit these data later on. **Either way, you should continue your analysis for now using just the subset of the data with few or no missing values.**"
   ]
  },
  {
   "cell_type": "code",
   "execution_count": 8,
   "metadata": {},
   "outputs": [
    {
     "name": "stdout",
     "output_type": "stream",
     "text": [
      "count    891221.000000\n",
      "mean          5.649894\n",
      "std          13.234687\n",
      "min           0.000000\n",
      "25%           0.000000\n",
      "50%           0.000000\n",
      "75%           3.000000\n",
      "max          49.000000\n",
      "dtype: float64\n"
     ]
    },
    {
     "data": {
      "text/plain": [
       "<matplotlib.axes._subplots.AxesSubplot at 0x1f6a10c4548>"
      ]
     },
     "execution_count": 8,
     "metadata": {},
     "output_type": "execute_result"
    },
    {
     "data": {
      "image/png": "[encoded data removed]",
      "text/plain": [
       "<Figure size 432x288 with 1 Axes>"
      ]
     },
     "metadata": {
      "needs_background": "light"
     },
     "output_type": "display_data"
    }
   ],
   "source": [
    "# How much data is missing in each row of the dataset?\n",
    "# https://www.udemy.com/course/python-for-data-science-and-machine-learning-bootcamp/learn/lecture/5733214#overview\n",
    "\n",
    "\n",
    "nullCountSerie = azdias.isna().sum(axis=1)\n",
    "azdias[\"nulls\"]=nullCountSerie\n",
    "print(nullCountSerie.describe())\n",
    "\n",
    "nullCountSerie.hist()\n",
    "\n",
    "\n"
   ]
  },
  {
   "cell_type": "code",
   "execution_count": 9,
   "metadata": {},
   "outputs": [
    {
     "name": "stdout",
     "output_type": "stream",
     "text": [
      "% of rows with more than 10 nulls 13.069485570918998\n",
      "% of rows with less than 10 nulls 86.930514429081\n"
     ]
    }
   ],
   "source": [
    "# Write code to divide the data into two subsets based on the number of missing\n",
    "# values in each row.\n",
    "threshold = 10\n",
    "under = azdias[azdias[\"nulls\"]<threshold]\n",
    "over = azdias[azdias[\"nulls\"]>=threshold]\n",
    "\n",
    "azdias.head()\n",
    "total= azdias.shape[0]\n",
    "print(\"% of rows with more than \" +str(threshold) + \" nulls \" + str((over.shape[0]/total)*100))\n",
    "print(\"% of rows with less than \" +str(threshold) + \" nulls \" + str((under.shape[0]/total)*100))\n",
    "\n",
    "#nullCountSerie"
   ]
  },
  {
   "cell_type": "code",
   "execution_count": 10,
   "metadata": {},
   "outputs": [
    {
     "data": {
      "text/plain": [
       "<matplotlib.axes._subplots.AxesSubplot at 0x1f6811b2708>"
      ]
     },
     "execution_count": 10,
     "metadata": {},
     "output_type": "execute_result"
    },
    {
     "data": {
      "image/png": "[encoded data removed]",
      "text/plain": [
       "<Figure size 2160x720 with 1 Axes>"
      ]
     },
     "metadata": {
      "needs_background": "light"
     },
     "output_type": "display_data"
    }
   ],
   "source": [
    "# Compare the distribution of values for at least five columns where there are\n",
    "# no or few missing values, between the two subsets.\n",
    "underX = under.isnull().sum()/len(under)\n",
    "overX = over.isnull().sum()/len(over)\n",
    "\n",
    "data = pd.concat({'Under':underX, 'Over':overX}, axis=1)\n",
    "data.plot(y = ['Under', 'Over'], kind='bar', figsize=(30,10))"
   ]
  },
  {
   "cell_type": "markdown",
   "metadata": {},
   "source": [
    "#### Discussion 1.1.3: Assess Missing Data in Each Row\n",
    "\n",
    "~13% of rows has more than 15 missing values"
   ]
  },
  {
   "cell_type": "markdown",
   "metadata": {},
   "source": [
    "### Step 1.2: Select and Re-Encode Features\n",
    "\n",
    "Checking for missing data isn't the only way in which you can prepare a dataset for analysis. Since the unsupervised learning techniques to be used will only work on data that is encoded numerically, you need to make a few encoding changes or additional assumptions to be able to make progress. In addition, while almost all of the values in the dataset are encoded using numbers, not all of them represent numeric values. Check the third column of the feature summary (`feat_info`) for a summary of types of measurement.\n",
    "- For numeric and interval data, these features can be kept without changes.\n",
    "- Most of the variables in the dataset are ordinal in nature. While ordinal values may technically be non-linear in spacing, make the simplifying assumption that the ordinal variables can be treated as being interval in nature (that is, kept without any changes).\n",
    "- Special handling may be necessary for the remaining two variable types: categorical, and 'mixed'.\n",
    "\n",
    "In the first two parts of this sub-step, you will perform an investigation of the categorical and mixed-type features and make a decision on each of them, whether you will keep, drop, or re-encode each. Then, in the last part, you will create a new data frame with only the selected and engineered columns.\n",
    "\n",
    "Data wrangling is often the trickiest part of the data analysis process, and there's a lot of it to be done here. But stick with it: once you're done with this step, you'll be ready to get to the machine learning parts of the project!"
   ]
  },
  {
   "cell_type": "code",
   "execution_count": 11,
   "metadata": {},
   "outputs": [
    {
     "name": "stdout",
     "output_type": "stream",
     "text": [
      "                attribute information_level         type missing_or_unknown\n",
      "0                AGER_TYP            person  categorical             [-1,0]\n",
      "1    ALTERSKATEGORIE_GROB            person      ordinal           [-1,0,9]\n",
      "2               ANREDE_KZ            person  categorical             [-1,0]\n",
      "3           CJT_GESAMTTYP            person  categorical                [0]\n",
      "4       FINANZ_MINIMALIST            person      ordinal               [-1]\n",
      "5           FINANZ_SPARER            person      ordinal               [-1]\n",
      "6        FINANZ_VORSORGER            person      ordinal               [-1]\n",
      "7          FINANZ_ANLEGER            person      ordinal               [-1]\n",
      "8   FINANZ_UNAUFFAELLIGER            person      ordinal               [-1]\n",
      "9        FINANZ_HAUSBAUER            person      ordinal               [-1]\n",
      "10              FINANZTYP            person  categorical               [-1]\n",
      "11            GEBURTSJAHR            person      numeric                [0]\n",
      "12        GFK_URLAUBERTYP            person  categorical                 []\n",
      "13       GREEN_AVANTGARDE            person  categorical                 []\n",
      "14             HEALTH_TYP            person      ordinal             [-1,0]\n",
      "15    LP_LEBENSPHASE_FEIN            person        mixed                [0]\n",
      "16    LP_LEBENSPHASE_GROB            person        mixed                [0]\n",
      "17        LP_FAMILIE_FEIN            person  categorical                [0]\n",
      "18        LP_FAMILIE_GROB            person  categorical                [0]\n",
      "19         LP_STATUS_FEIN            person  categorical                [0]\n",
      "20         LP_STATUS_GROB            person  categorical                [0]\n",
      "21       NATIONALITAET_KZ            person  categorical             [-1,0]\n",
      "22  PRAEGENDE_JUGENDJAHRE            person        mixed             [-1,0]\n",
      "23         RETOURTYP_BK_S            person      ordinal                [0]\n",
      "24              SEMIO_SOZ            person      ordinal             [-1,9]\n",
      "25              SEMIO_FAM            person      ordinal             [-1,9]\n",
      "26              SEMIO_REL            person      ordinal             [-1,9]\n",
      "27              SEMIO_MAT            person      ordinal             [-1,9]\n",
      "28             SEMIO_VERT            person      ordinal             [-1,9]\n",
      "29             SEMIO_LUST            person      ordinal             [-1,9]\n",
      "30              SEMIO_ERL            person      ordinal             [-1,9]\n",
      "31             SEMIO_KULT            person      ordinal             [-1,9]\n",
      "32              SEMIO_RAT            person      ordinal             [-1,9]\n",
      "33             SEMIO_KRIT            person      ordinal             [-1,9]\n",
      "34              SEMIO_DOM            person      ordinal             [-1,9]\n",
      "35             SEMIO_KAEM            person      ordinal             [-1,9]\n",
      "36          SEMIO_PFLICHT            person      ordinal             [-1,9]\n",
      "37            SEMIO_TRADV            person      ordinal             [-1,9]\n",
      "38            SHOPPER_TYP            person  categorical               [-1]\n",
      "39                SOHO_KZ            person  categorical               [-1]\n",
      "40               TITEL_KZ            person  categorical             [-1,0]\n",
      "41               VERS_TYP            person  categorical               [-1]\n",
      "42               ZABEOTYP            person  categorical             [-1,9]\n",
      "43               ALTER_HH         household     interval                [0]\n",
      "44           ANZ_PERSONEN         household      numeric                 []\n",
      "45              ANZ_TITEL         household      numeric                 []\n",
      "46     HH_EINKOMMEN_SCORE         household      ordinal             [-1,0]\n",
      "47           KK_KUNDENTYP         household  categorical               [-1]\n",
      "48         W_KEIT_KIND_HH         household      ordinal             [-1,0]\n",
      "49         WOHNDAUER_2008         household      ordinal             [-1,0]\n",
      "50    ANZ_HAUSHALTE_AKTIV          building      numeric                [0]\n",
      "51           ANZ_HH_TITEL          building      numeric                 []\n",
      "52            GEBAEUDETYP          building  categorical             [-1,0]\n",
      "53            KONSUMNAEHE          building      ordinal                 []\n",
      "54       MIN_GEBAEUDEJAHR          building      numeric                [0]\n",
      "55            OST_WEST_KZ          building  categorical               [-1]\n",
      "56               WOHNLAGE          building        mixed               [-1]\n",
      "57        CAMEO_DEUG_2015     microcell_rr4  categorical             [-1,X]\n",
      "58         CAMEO_DEU_2015     microcell_rr4  categorical               [XX]\n",
      "59        CAMEO_INTL_2015     microcell_rr4        mixed            [-1,XX]\n",
      "60            KBA05_ANTG1     microcell_rr3      ordinal               [-1]\n",
      "61            KBA05_ANTG2     microcell_rr3      ordinal               [-1]\n",
      "62            KBA05_ANTG3     microcell_rr3      ordinal               [-1]\n",
      "63            KBA05_ANTG4     microcell_rr3      ordinal               [-1]\n",
      "64           KBA05_BAUMAX     microcell_rr3        mixed             [-1,0]\n",
      "65              KBA05_GBZ     microcell_rr3      ordinal             [-1,0]\n",
      "66               BALLRAUM          postcode      ordinal               [-1]\n",
      "67               EWDICHTE          postcode      ordinal               [-1]\n",
      "68             INNENSTADT          postcode      ordinal               [-1]\n",
      "69     GEBAEUDETYP_RASTER        region_rr1      ordinal                 []\n",
      "70                    KKK        region_rr1      ordinal             [-1,0]\n",
      "71             MOBI_REGIO        region_rr1      ordinal                 []\n",
      "72      ONLINE_AFFINITAET        region_rr1      ordinal                 []\n",
      "73               REGIOTYP        region_rr1      ordinal             [-1,0]\n",
      "74       KBA13_ANZAHL_PKW    macrocell_plz8      numeric                 []\n",
      "75             PLZ8_ANTG1    macrocell_plz8      ordinal               [-1]\n",
      "76             PLZ8_ANTG2    macrocell_plz8      ordinal               [-1]\n",
      "77             PLZ8_ANTG3    macrocell_plz8      ordinal               [-1]\n",
      "78             PLZ8_ANTG4    macrocell_plz8      ordinal               [-1]\n",
      "79            PLZ8_BAUMAX    macrocell_plz8        mixed             [-1,0]\n",
      "80               PLZ8_HHZ    macrocell_plz8      ordinal               [-1]\n",
      "81               PLZ8_GBZ    macrocell_plz8      ordinal               [-1]\n",
      "82                 ARBEIT         community      ordinal             [-1,9]\n",
      "83            ORTSGR_KLS9         community      ordinal             [-1,0]\n",
      "84               RELAT_AB         community      ordinal             [-1,9]\n"
     ]
    },
    {
     "data": {
      "text/plain": [
       "ordinal        49\n",
       "categorical    21\n",
       "numeric         7\n",
       "mixed           7\n",
       "interval        1\n",
       "Name: type, dtype: int64"
      ]
     },
     "execution_count": 11,
     "metadata": {},
     "output_type": "execute_result"
    }
   ],
   "source": [
    "# How many features are there of each data type?\n",
    "pd.set_option('display.max_rows', feat_info.shape[0]+1)\n",
    "print(feat_info)\n",
    "\n",
    "#https://www.w3resource.com/pandas/series/series-value_counts.php\n",
    "typeSerie=feat_info[\"type\"]\n",
    "typeSerie.value_counts()"
   ]
  },
  {
   "cell_type": "markdown",
   "metadata": {},
   "source": [
    "#### Step 1.2.1: Re-Encode Categorical Features\n",
    "\n",
    "For categorical data, you would ordinarily need to encode the levels as dummy variables. Depending on the number of categories, perform one of the following:\n",
    "- For binary (two-level) categoricals that take numeric values, you can keep them without needing to do anything.\n",
    "- There is one binary variable that takes on non-numeric values. For this one, you need to re-encode the values as numbers or create a dummy variable.\n",
    "- For multi-level categoricals (three or more values), you can choose to encode the values using multiple dummy variables (e.g. via [OneHotEncoder](http://scikit-learn.org/stable/modules/generated/sklearn.preprocessing.OneHotEncoder.html)), or (to keep things straightforward) just drop them from the analysis. As always, document your choices in the Discussion section."
   ]
  },
  {
   "cell_type": "code",
   "execution_count": 12,
   "metadata": {},
   "outputs": [
    {
     "name": "stdout",
     "output_type": "stream",
     "text": [
      "CJT_GESAMTTYP Number of categories: 6\n",
      "FINANZTYP Number of categories: 6\n",
      "GFK_URLAUBERTYP Number of categories: 12\n",
      "LP_FAMILIE_FEIN Number of categories: 11\n",
      "LP_FAMILIE_GROB Number of categories: 5\n",
      "LP_STATUS_FEIN Number of categories: 10\n",
      "LP_STATUS_GROB Number of categories: 5\n",
      "NATIONALITAET_KZ Number of categories: 3\n",
      "SHOPPER_TYP Number of categories: 4\n",
      "ZABEOTYP Number of categories: 6\n",
      "GEBAEUDETYP Number of categories: 7\n",
      "CAMEO_DEUG_2015 Number of categories: 9\n",
      "CAMEO_DEU_2015 Number of categories: 44\n"
     ]
    }
   ],
   "source": [
    "# Assess categorical variables: which are binary, which are multi-level, and\n",
    "# which one needs to be re-encoded?\n",
    "\n",
    "attributeAndType= feat_info[[\"attribute\", \"type\"]]\n",
    "categoricalColumns = attributeAndType[attributeAndType['type'] == \"categorical\"][\"attribute\"]\n",
    "#print(categoricalColumns)\n",
    "\n",
    "toDelete=[]\n",
    "twoCategory=[]\n",
    "for clm in categoricalColumns:\n",
    "    if clm in azdias and azdias[clm].nunique() > 2:\n",
    "        print(clm + \" Number of categories: \" + str(azdias[clm].nunique()))\n",
    "        toDelete.append(clm)\n",
    "    else:\n",
    "        twoCategory.append(clm)\n",
    "\n",
    "#Drop numerical over 2\n",
    "azdias.drop(toDelete, axis=1, inplace=True)    "
   ]
  },
  {
   "cell_type": "code",
   "execution_count": 13,
   "metadata": {},
   "outputs": [
    {
     "name": "stdout",
     "output_type": "stream",
     "text": [
      "ANREDE_KZ [1 2]\n",
      "GREEN_AVANTGARDE [0 1]\n",
      "SOHO_KZ [nan  1.  0.]\n",
      "VERS_TYP [nan  2.  1.]\n",
      "OST_WEST_KZ [nan 'W' 'O']\n"
     ]
    }
   ],
   "source": [
    "# Re-encode categorical variable(s) to be kept in the analysis.\n",
    "for clm in twoCategory:\n",
    "     if clm in azdias:\n",
    "            print(clm, end=\" \") \n",
    "            print(azdias[clm].unique())\n",
    "\n",
    "#encode OST_WEST_KZ ignore nan for now          \n",
    "azdias.loc[azdias[\"OST_WEST_KZ\"] == 'O', \"OST_WEST_KZ\"] = 0\n",
    "azdias.loc[azdias[\"OST_WEST_KZ\"] == 'W', \"OST_WEST_KZ\"] = 1      "
   ]
  },
  {
   "cell_type": "markdown",
   "metadata": {},
   "source": [
    "#### Discussion 1.2.1: Re-Encode Categorical Features\n",
    "OST_WEST_KZ needs encoding, it's done manually above.\n",
    "All categories was deleted except the binary (ANREDE_KZ,GREEN_AVANTGARDE, SOHO_KZ , OST_WEST_KZ)  \n",
    "\n"
   ]
  },
  {
   "cell_type": "markdown",
   "metadata": {},
   "source": [
    "#### Step 1.2.2: Engineer Mixed-Type Features\n",
    "\n",
    "There are a handful of features that are marked as \"mixed\" in the feature summary that require special treatment in order to be included in the analysis. There are two in particular that deserve attention; the handling of the rest are up to your own choices:\n",
    "- \"PRAEGENDE_JUGENDJAHRE\" combines information on three dimensions: generation by decade, movement (mainstream vs. avantgarde), and nation (east vs. west). While there aren't enough levels to disentangle east from west, you should create two new variables to capture the other two dimensions: an interval-type variable for decade, and a binary variable for movement.\n",
    "- \"CAMEO_INTL_2015\" combines information on two axes: wealth and life stage. Break up the two-digit codes by their 'tens'-place and 'ones'-place digits into two new ordinal variables (which, for the purposes of this project, is equivalent to just treating them as their raw numeric values).\n",
    "- If you decide to keep or engineer new features around the other mixed-type features, make sure you note your steps in the Discussion section.\n",
    "\n",
    "Be sure to check `Data_Dictionary.md` for the details needed to finish these tasks."
   ]
  },
  {
   "cell_type": "code",
   "execution_count": 14,
   "metadata": {},
   "outputs": [
    {
     "data": {
      "text/plain": [
       "<matplotlib.axes._subplots.AxesSubplot at 0x1f6814d72c8>"
      ]
     },
     "execution_count": 14,
     "metadata": {},
     "output_type": "execute_result"
    },
    {
     "data": {
      "image/png": "[encoded data removed]",
      "text/plain": [
       "<Figure size 432x288 with 1 Axes>"
      ]
     },
     "metadata": {
      "needs_background": "light"
     },
     "output_type": "display_data"
    }
   ],
   "source": [
    "# Investigate \"PRAEGENDE_JUGENDJAHRE\" and engineer two new variables.\n",
    "\n",
    "#feat_info\n",
    "#azdias[\"PRAEGENDE_JUGENDJAHRE\"].head(20)\n",
    "colPj = 'PRAEGENDE_JUGENDJAHRE'\n",
    "azdias[colPj].value_counts().plot.bar()\n",
    "\n",
    "\n",
    "\n"
   ]
  },
  {
   "cell_type": "code",
   "execution_count": null,
   "metadata": {},
   "outputs": [],
   "source": []
  },
  {
   "cell_type": "code",
   "execution_count": 15,
   "metadata": {},
   "outputs": [],
   "source": [
    "\n",
    "def extractMovement(val):\n",
    "    if (val in (2,4,6,7,9,11,13,15)):\n",
    "        return 0\n",
    "    return 1\n",
    "\n",
    "def extractPeriod(val):\n",
    "    if(0 > val < 3):\n",
    "        return 40\n",
    "    elif(2 < val < 5):\n",
    "        return 50\n",
    "    elif(4 < val < 8):\n",
    "        return 60\n",
    "    elif(7< val < 10):\n",
    "        return 70\n",
    "    elif(9 < val < 14):\n",
    "        return 80\n",
    "    elif(13 < val < 16):\n",
    "        return 90\n",
    "    return np.nan    \n"
   ]
  },
  {
   "cell_type": "code",
   "execution_count": 16,
   "metadata": {},
   "outputs": [
    {
     "name": "stdout",
     "output_type": "stream",
     "text": [
      "PRAEGENDE_JUGENDJAHRE_MOVEMENT\n"
     ]
    },
    {
     "data": {
      "text/plain": [
       "1    715996\n",
       "0    175225\n",
       "Name: PRAEGENDE_JUGENDJAHRE_MOVEMENT, dtype: int64"
      ]
     },
     "execution_count": 16,
     "metadata": {},
     "output_type": "execute_result"
    }
   ],
   "source": [
    "azdias['PRAEGENDE_JUGENDJAHRE_MOVEMENT'] = azdias[colPj].apply(extractMovement)\n",
    "print(\"PRAEGENDE_JUGENDJAHRE_MOVEMENT\")\n",
    "azdias['PRAEGENDE_JUGENDJAHRE_MOVEMENT'].value_counts()\n"
   ]
  },
  {
   "cell_type": "code",
   "execution_count": 17,
   "metadata": {},
   "outputs": [
    {
     "name": "stdout",
     "output_type": "stream",
     "text": [
      "PRAEGENDE_JUGENDJAHRE_PERIOD\n"
     ]
    },
    {
     "data": {
      "text/plain": [
       "90.0    231244\n",
       "70.0    179558\n",
       "80.0    151770\n",
       "60.0    116078\n",
       "50.0     75646\n",
       "Name: PRAEGENDE_JUGENDJAHRE_PERIOD, dtype: int64"
      ]
     },
     "execution_count": 17,
     "metadata": {},
     "output_type": "execute_result"
    }
   ],
   "source": [
    "azdias['PRAEGENDE_JUGENDJAHRE_PERIOD'] = azdias[colPj].apply(extractPeriod)\n",
    "print(\"PRAEGENDE_JUGENDJAHRE_PERIOD\")\n",
    "azdias['PRAEGENDE_JUGENDJAHRE_PERIOD'].value_counts()"
   ]
  },
  {
   "cell_type": "code",
   "execution_count": 18,
   "metadata": {},
   "outputs": [],
   "source": [
    "# Investigate \"CAMEO_INTL_2015\" and engineer two new variables.\n",
    "\n",
    "#\"CAMEO_INTL_2015\"\n",
    "def extractWealth(val):\n",
    "    try:\n",
    "        val = int(val)\n",
    "    except ValueError:\n",
    "        return np.nan\n",
    "\n",
    "    if(20 < val < 21):\n",
    "        return 1\n",
    "    elif(15 < val < 31):\n",
    "        return 2\n",
    "    elif(25 < val < 41 ):\n",
    "        return 3\n",
    "    elif(35 < val < 51):\n",
    "        return 4\n",
    "    elif(45 < val < 56):\n",
    "        return 5\n",
    "    return np.nan \n",
    "\n"
   ]
  },
  {
   "cell_type": "code",
   "execution_count": 19,
   "metadata": {},
   "outputs": [],
   "source": [
    "#young =0, Old =1\n",
    "#young 11,12,12,21,22,23,31,32,33,41,42,43,51,52,53,\n",
    "#OLD 14,15,24,25,34,35,44,45,54,55\n",
    "\n",
    "def extractAge(val):\n",
    "    try:\n",
    "        val = int(val)\n",
    "    except ValueError:\n",
    "        return np.nan\n",
    "\n",
    "    if(val in (11,12,12,21,22,23,31,32,33,41,42,43,51,52,53)):\n",
    "        return 0\n",
    "    elif(val in (14,15,24,25,34,35,44,45,54,55)):\n",
    "        return 1\n",
    "    return np.nan    \n"
   ]
  },
  {
   "cell_type": "code",
   "execution_count": 20,
   "metadata": {},
   "outputs": [
    {
     "data": {
      "text/plain": [
       "5.0    223582\n",
       "2.0    190691\n",
       "4.0    189960\n",
       "3.0     68193\n",
       "Name: CAMEO_INTL_2015_WEALTH, dtype: int64"
      ]
     },
     "execution_count": 20,
     "metadata": {},
     "output_type": "execute_result"
    }
   ],
   "source": [
    "colC2015 = \"CAMEO_INTL_2015\"\n",
    "azdias['CAMEO_INTL_2015_WEALTH'] = azdias[colC2015].apply(extractWealth)\n",
    "azdias['CAMEO_INTL_2015_WEALTH'].value_counts()\n"
   ]
  },
  {
   "cell_type": "code",
   "execution_count": 21,
   "metadata": {},
   "outputs": [
    {
     "data": {
      "text/plain": [
       "0.0    415711\n",
       "1.0    349822\n",
       "Name: CAMEO_INTL_2015_AGE, dtype: int64"
      ]
     },
     "execution_count": 21,
     "metadata": {},
     "output_type": "execute_result"
    }
   ],
   "source": [
    "azdias['CAMEO_INTL_2015_AGE'] = azdias[colC2015].apply(extractAge)\n",
    "azdias['CAMEO_INTL_2015_AGE'].value_counts()"
   ]
  },
  {
   "cell_type": "markdown",
   "metadata": {},
   "source": [
    "#### Discussion 1.2.2: Engineer Mixed-Type Features\n",
    "\n",
    "Decided to drop other columns than the one specifically menthioned in the assignment.\n",
    "\n",
    "CAMEO_INTL_2015:\n",
    "was splitted into two columns _AGE clustering ages into (young, old), and  _WEALTH  clustering wealth into 4 diffferent levels.\n",
    "\n",
    "PRAEGENDE_JUGENDJAHRE:\n",
    "Was splitted into two columns \n",
    "_PERIOD : clustering the period/decade (40's, 50's etc)\n",
    "_MOVEMENT: describinbg avantgarde/mainstream\n"
   ]
  },
  {
   "cell_type": "markdown",
   "metadata": {},
   "source": [
    "#### Step 1.2.3: Complete Feature Selection\n",
    "\n",
    "In order to finish this step up, you need to make sure that your data frame now only has the columns that you want to keep. To summarize, the dataframe should consist of the following:\n",
    "- All numeric, interval, and ordinal type columns from the original dataset.\n",
    "- Binary categorical features (all numerically-encoded).\n",
    "- Engineered features from other multi-level categorical features and mixed features.\n",
    "\n",
    "Make sure that for any new columns that you have engineered, that you've excluded the original columns from the final dataset. Otherwise, their values will interfere with the analysis later on the project. For example, you should not keep \"PRAEGENDE_JUGENDJAHRE\", since its values won't be useful for the algorithm: only the values derived from it in the engineered features you created should be retained. As a reminder, your data should only be from **the subset with few or no missing values**."
   ]
  },
  {
   "cell_type": "code",
   "execution_count": 22,
   "metadata": {},
   "outputs": [],
   "source": [
    "# If there are other re-engineering tasks you need to perform, make sure you\n",
    "# take care of them here. (Dealing with missing data will come in step 2.1.)\n",
    "\n"
   ]
  },
  {
   "cell_type": "code",
   "execution_count": 23,
   "metadata": {},
   "outputs": [],
   "source": [
    "# Do whatever you need to in order to ensure that the dataframe only contains\n",
    "# the columns that should be passed to the algorithm functions.\n",
    "azdias.drop(\"CAMEO_INTL_2015\", axis=1, inplace=True)\n",
    "azdias.drop(\"PRAEGENDE_JUGENDJAHRE\", axis=1, inplace=True)\n",
    "azdias.drop(\"nulls\", axis=1, inplace=True)\n"
   ]
  },
  {
   "cell_type": "markdown",
   "metadata": {},
   "source": [
    "### Step 1.3: Create a Cleaning Function\n",
    "\n",
    "Even though you've finished cleaning up the general population demographics data, it's important to look ahead to the future and realize that you'll need to perform the same cleaning steps on the customer demographics data. In this substep, complete the function below to execute the main feature selection, encoding, and re-engineering steps you performed above. Then, when it comes to looking at the customer data in Step 3, you can just run this function on that DataFrame to get the trimmed dataset in a single step."
   ]
  },
  {
   "cell_type": "code",
   "execution_count": 24,
   "metadata": {},
   "outputs": [],
   "source": [
    "def extractMovement(val):\n",
    "    if (val in (2,4,6,7,9,11,13,15)):\n",
    "        return 0\n",
    "    return 1\n",
    "\n",
    "def extractPeriod(val):\n",
    "    if(0 > val < 3):\n",
    "        return 40\n",
    "    elif(2 < val < 5):\n",
    "        return 50\n",
    "    elif(4 < val < 8):\n",
    "        return 60\n",
    "    elif(7< val < 10):\n",
    "        return 70\n",
    "    elif(9 < val < 14):\n",
    "        return 80\n",
    "    elif(13 < val < 16):\n",
    "        return 90\n",
    "    return np.nan    \n",
    "\n",
    "def extractWealth(val):\n",
    "    try:\n",
    "        val = int(val)\n",
    "    except ValueError:\n",
    "        return np.nan\n",
    "\n",
    "    if(20 < val < 21):\n",
    "        return 1\n",
    "    elif(15 < val < 31):\n",
    "        return 2\n",
    "    elif(25 < val < 41 ):\n",
    "        return 3\n",
    "    elif(35 < val < 51):\n",
    "        return 4\n",
    "    elif(45 < val < 56):\n",
    "        return 5\n",
    "    return np.nan \n",
    "\n",
    "def extractAge(val):\n",
    "    try:\n",
    "        val = int(val)\n",
    "    except ValueError:\n",
    "        return np.nan\n",
    "\n",
    "    if(val in (11,12,12,21,22,23,31,32,33,41,42,43,51,52,53)):\n",
    "        return 0\n",
    "    elif(val in (14,15,24,25,34,35,44,45,54,55)):\n",
    "        return 1\n",
    "    return np.nan    \n",
    "\n",
    "\n",
    "def clean_data(df):\n",
    "    \"\"\"\n",
    "    Perform feature trimming, re-encoding, and engineering for demographics\n",
    "    data\n",
    "    INPUT: Demographics DataFrame\n",
    "    OUTPUT: Trimmed and cleaned demographics DataFrame\n",
    "    \"\"\"\n",
    "    # Put in code here to execute all main cleaning steps:\n",
    "    # convert missing value codes into NaNs, ...\n",
    "    \n",
    "    for index, row in feat_info.iterrows():\n",
    "        column = row['attribute']\n",
    "        nullVals = row['missing_or_unknown'].replace('[','').replace(']','').split(',')\n",
    "        if column in df:\n",
    "            for nullval in nullVals:\n",
    "                try:\n",
    "                    df[column].replace(int(nullval), np.nan, inplace=True)\n",
    "                except ValueError:    \n",
    "                    df[column].replace(nullval, np.nan, inplace=True)\n",
    "    \n",
    "    # remove selected columns and rows, ...\n",
    "    columnNullMap = df.isna().sum(axis=0)\n",
    "    treshold = 200000 \n",
    "    toRemove= columnNullMap[columnNullMap >= treshold]\n",
    "    print(\"Removing {c} Columns  because they have more than {n} nulls\".format(c=toRemove.shape [0], n=treshold))\n",
    "    print(toRemove)\n",
    "    print(df.shape)\n",
    "    df.drop(toRemove.index, axis=1,inplace=True)\n",
    "    print(df.shape)\n",
    "\n",
    "    \n",
    "    # select, re-encode, and engineer column values.\n",
    "    attributeAndType= feat_info[[\"attribute\", \"type\"]]\n",
    "    categoricalColumns = attributeAndType[attributeAndType['type'] == \"categorical\"][\"attribute\"]\n",
    "\n",
    "\n",
    "    #Drop numerical over 2\n",
    "    toDelete=[]\n",
    "    twoCategory=[]\n",
    "    for clm in categoricalColumns:\n",
    "        if clm in df and df[clm].nunique() > 2:\n",
    "            print(clm + \" Number of categories: \" + str(df[clm].nunique()))\n",
    "            toDelete.append(clm)\n",
    "        else:\n",
    "            twoCategory.append(clm)\n",
    "\n",
    "    df.drop(toDelete, axis=1, inplace=True)    \n",
    "\n",
    "    df.loc[df[\"OST_WEST_KZ\"] == 'O', \"OST_WEST_KZ\"] = 0\n",
    "    df.loc[df[\"OST_WEST_KZ\"] == 'W', \"OST_WEST_KZ\"] = 1   \n",
    "\n",
    "    colPj = 'PRAEGENDE_JUGENDJAHRE'\n",
    "    if colPj in df:\n",
    "        df['PRAEGENDE_JUGENDJAHRE_MOVEMENT'] = df[colPj].apply(extractMovement)\n",
    "        df['PRAEGENDE_JUGENDJAHRE_PERIOD'] = df[colPj].apply(extractPeriod)\n",
    "        df.drop(\"PRAEGENDE_JUGENDJAHRE\", axis=1, inplace=True)\n",
    "\n",
    "    colC2015 = \"CAMEO_INTL_2015\"\n",
    "    if colC2015 in df:\n",
    "        df['CAMEO_INTL_2015_WEALTH'] = df[colC2015].apply(extractWealth)\n",
    "        df['CAMEO_INTL_2015_AGE'] = df[colC2015].apply(extractAge)\n",
    "        df.drop(\"CAMEO_INTL_2015\", axis=1, inplace=True)\n",
    "    \n",
    "    if 'nulls' in df.columns:\n",
    "        df.drop(\"nulls\", axis=1, inplace=True)\n",
    "\n",
    "    # Return the cleaned dataframe.\n",
    "    return df    \n",
    "    "
   ]
  },
  {
   "cell_type": "markdown",
   "metadata": {},
   "source": [
    "## Step 2: Feature Transformation\n",
    "\n",
    "### Step 2.1: Apply Feature Scaling\n",
    "\n",
    "Before we apply dimensionality reduction techniques to the data, we need to perform feature scaling so that the principal component vectors are not influenced by the natural differences in scale for features. Starting from this part of the project, you'll want to keep an eye on the [API reference page for sklearn](http://scikit-learn.org/stable/modules/classes.html) to help you navigate to all of the classes and functions that you'll need. In this substep, you'll need to check the following:\n",
    "\n",
    "- sklearn requires that data not have missing values in order for its estimators to work properly. So, before applying the scaler to your data, make sure that you've cleaned the DataFrame of the remaining missing values. This can be as simple as just removing all data points with missing data, or applying an [Imputer](http://scikit-learn.org/stable/modules/generated/sklearn.preprocessing.Imputer.html) to replace all missing values. You might also try a more complicated procedure where you temporarily remove missing values in order to compute the scaling parameters before re-introducing those missing values and applying imputation. Think about how much missing data you have and what possible effects each approach might have on your analysis, and justify your decision in the discussion section below.\n",
    "- For the actual scaling function, a [StandardScaler](http://scikit-learn.org/stable/modules/generated/sklearn.preprocessing.StandardScaler.html) instance is suggested, scaling each feature to mean 0 and standard deviation 1.\n",
    "- For these classes, you can make use of the `.fit_transform()` method to both fit a procedure to the data as well as apply the transformation to the data at the same time. Don't forget to keep the fit sklearn objects handy, since you'll be applying them to the customer demographics data towards the end of the project."
   ]
  },
  {
   "cell_type": "code",
   "execution_count": 25,
   "metadata": {},
   "outputs": [],
   "source": [
    "# If you've not yet cleaned the dataset of all NaN values, then investigate and\n",
    "# do that now.\n",
    "\n",
    "azdias = azdias.dropna(axis=0)\n"
   ]
  },
  {
   "cell_type": "code",
   "execution_count": 26,
   "metadata": {},
   "outputs": [],
   "source": [
    "# Apply feature scaling to the general population demographics data.\n",
    "\n",
    "from sklearn.decomposition import PCA\n",
    "from sklearn import preprocessing\n",
    "scaler = preprocessing.StandardScaler()\n",
    "def do_scale(df):\n",
    "    scaler = preprocessing.StandardScaler()\n",
    "    return scaler.fit_transform(df)\n",
    "\n",
    "genralScaleResult= do_scale(azdias)\n"
   ]
  },
  {
   "cell_type": "markdown",
   "metadata": {},
   "source": [
    "### Discussion 2.1: Apply Feature Scaling\n",
    "Used standard scaler as suggested\n",
    "Imported necessary sklearn libs, instanitate a scaler and called fit_transform that's it. \n",
    "Used .dropna to drop Na's\n"
   ]
  },
  {
   "cell_type": "markdown",
   "metadata": {},
   "source": [
    "### Step 2.2: Perform Dimensionality Reduction\n",
    "\n",
    "On your scaled data, you are now ready to apply dimensionality reduction techniques.\n",
    "\n",
    "- Use sklearn's [PCA](http://scikit-learn.org/stable/modules/generated/sklearn.decomposition.PCA.html) class to apply principal component analysis on the data, thus finding the vectors of maximal variance in the data. To start, you should not set any parameters (so all components are computed) or set a number of components that is at least half the number of features (so there's enough features to see the general trend in variability).\n",
    "- Check out the ratio of variance explained by each principal component as well as the cumulative variance explained. Try plotting the cumulative or sequential values using matplotlib's [`plot()`](https://matplotlib.org/api/_as_gen/matplotlib.pyplot.plot.html) function. Based on what you find, select a value for the number of transformed features you'll retain for the clustering part of the project.\n",
    "- Once you've made a choice for the number of components to keep, make sure you re-fit a PCA instance to perform the decided-on transformation."
   ]
  },
  {
   "cell_type": "code",
   "execution_count": 27,
   "metadata": {},
   "outputs": [],
   "source": [
    "# Apply PCA to the data.\n",
    "\n",
    "    \n",
    "def do_pca(n_components, data):\n",
    "    '''\n",
    "    Transforms data using PCA to create n_components, and provides back the results of the\n",
    "    transformation.\n",
    "    \n",
    "    INPUT: n_components - int - the number of principal components to create\n",
    "           data - the data you would like to transform\n",
    "           \n",
    "    OUTPUT: pca - the pca object created after fitting the data\n",
    "            X_pca - the transformed X matrix with new number of components\n",
    "    '''\n",
    "    X = scaler.fit_transform(data)\n",
    "    pca = PCA(n_components)\n",
    "    X_pca = pca.fit_transform(X)\n",
    "    return pca, X_pca\n",
    "\n",
    "\n",
    "\n",
    "pca, x_pca = do_pca(None, genralScaleResult)"
   ]
  },
  {
   "cell_type": "code",
   "execution_count": 28,
   "metadata": {},
   "outputs": [],
   "source": [
    "# Investigate the variance accounted for by each principal component.\n",
    "# Stolen from helper functions :)\n",
    "def scree_plot(pca):\n",
    "    '''\n",
    "    Creates a scree plot associated with the principal components \n",
    "    \n",
    "    INPUT: pca - the result of instantian of PCA in scikit learn\n",
    "            \n",
    "    OUTPUT:\n",
    "            None\n",
    "    '''\n",
    "    num_components=len(pca.explained_variance_ratio_)\n",
    "    ind = np.arange(num_components)\n",
    "    vals = pca.explained_variance_ratio_\n",
    " \n",
    "    plt.figure(figsize=(10, 6))\n",
    "    ax = plt.subplot(111)\n",
    "    cumvals = np.cumsum(vals)\n",
    "    ax.bar(ind, vals)\n",
    "    ax.plot(ind, cumvals)\n",
    "    for i in range(num_components):\n",
    "        ax.annotate(r\"%s%%\" % ((str(vals[i]*100)[:4])), (ind[i]+0.2, vals[i]), va=\"bottom\", ha=\"center\", fontsize=12)\n",
    " \n",
    "    ax.xaxis.set_tick_params(width=0)\n",
    "    ax.yaxis.set_tick_params(width=2, length=12)\n",
    " \n",
    "    ax.set_xlabel(\"Principal Component\")\n",
    "    ax.set_ylabel(\"Variance Explained (%)\")\n",
    "    plt.title('Explained Variance Per Principal Component')\n",
    "    \n",
    "\n",
    "\n",
    "\n"
   ]
  },
  {
   "cell_type": "code",
   "execution_count": 29,
   "metadata": {},
   "outputs": [
    {
     "data": {
      "image/png": "[encoded data removed]",
      "text/plain": [
       "<Figure size 720x432 with 1 Axes>"
      ]
     },
     "metadata": {
      "needs_background": "light"
     },
     "output_type": "display_data"
    }
   ],
   "source": [
    "# Re-apply PCA to the data while selecting for number of components to retain.\n",
    "pcaGeneral, x_pcaGeneral = do_pca(10, genralScaleResult)\n",
    "scree_plot(pcaGeneral)"
   ]
  },
  {
   "cell_type": "markdown",
   "metadata": {},
   "source": [
    "### Discussion 2.2: Perform Dimensionality Reduction\n",
    "\n",
    "By looking at the graph, in cell 44, I choose 10 as number of components, where the first 5 accounts for the most variance."
   ]
  },
  {
   "cell_type": "markdown",
   "metadata": {},
   "source": [
    "### Step 2.3: Interpret Principal Components\n",
    "\n",
    "Now that we have our transformed principal components, it's a nice idea to check out the weight of each variable on the first few components to see if they can be interpreted in some fashion.\n",
    "\n",
    "As a reminder, each principal component is a unit vector that points in the direction of highest variance (after accounting for the variance captured by earlier principal components). The further a weight is from zero, the more the principal component is in the direction of the corresponding feature. If two features have large weights of the same sign (both positive or both negative), then increases in one tend expect to be associated with increases in the other. To contrast, features with different signs can be expected to show a negative correlation: increases in one variable should result in a decrease in the other.\n",
    "\n",
    "- To investigate the features, you should map each weight to their corresponding feature name, then sort the features according to weight. The most interesting features for each principal component, then, will be those at the beginning and end of the sorted list. Use the data dictionary document to help you understand these most prominent features, their relationships, and what a positive or negative value on the principal component might indicate.\n",
    "- You should investigate and interpret feature associations from the first three principal components in this substep. To help facilitate this, you should write a function that you can call at any time to print the sorted list of feature weights, for the *i*-th principal component. This might come in handy in the next step of the project, when you interpret the tendencies of the discovered clusters."
   ]
  },
  {
   "cell_type": "code",
   "execution_count": 30,
   "metadata": {},
   "outputs": [
    {
     "name": "stdout",
     "output_type": "stream",
     "text": [
      "PLZ8_ANTG3                        0.221289\n",
      "PLZ8_ANTG4                        0.216441\n",
      "PLZ8_BAUMAX                       0.210318\n",
      "ORTSGR_KLS9                       0.203724\n",
      "EWDICHTE                          0.200916\n",
      "CAMEO_INTL_2015_WEALTH            0.186601\n",
      "HH_EINKOMMEN_SCORE                0.178074\n",
      "FINANZ_HAUSBAUER                  0.146844\n",
      "KBA05_ANTG4                       0.145779\n",
      "ARBEIT                            0.140142\n",
      "PLZ8_ANTG2                        0.137967\n",
      "FINANZ_SPARER                     0.132350\n",
      "ANZ_HAUSHALTE_AKTIV               0.127968\n",
      "RELAT_AB                          0.126011\n",
      "KBA05_ANTG3                       0.121576\n",
      "SEMIO_REL                         0.102821\n",
      "SEMIO_PFLICHT                     0.102395\n",
      "PRAEGENDE_JUGENDJAHRE_PERIOD      0.097343\n",
      "SEMIO_TRADV                       0.095179\n",
      "SEMIO_RAT                         0.086060\n",
      "PRAEGENDE_JUGENDJAHRE_MOVEMENT    0.086025\n",
      "SEMIO_MAT                         0.079764\n",
      "SEMIO_FAM                         0.077275\n",
      "SEMIO_KULT                        0.072066\n",
      "FINANZ_UNAUFFAELLIGER             0.071231\n",
      "REGIOTYP                          0.054541\n",
      "W_KEIT_KIND_HH                    0.050125\n",
      "SEMIO_SOZ                         0.050020\n",
      "FINANZ_ANLEGER                    0.047639\n",
      "PLZ8_HHZ                          0.044167\n",
      "ANZ_HH_TITEL                      0.033823\n",
      "SEMIO_KAEM                        0.032205\n",
      "HEALTH_TYP                        0.028024\n",
      "KKK                               0.020942\n",
      "VERS_TYP                          0.018463\n",
      "SEMIO_DOM                         0.016981\n",
      "SEMIO_KRIT                        0.000627\n",
      "ANREDE_KZ                        -0.001838\n",
      "ANZ_TITEL                        -0.001990\n",
      "SOHO_KZ                          -0.002306\n",
      "KBA05_ANTG2                      -0.008896\n",
      "RETOURTYP_BK_S                   -0.017598\n",
      "SEMIO_VERT                       -0.021857\n",
      "ONLINE_AFFINITAET                -0.038119\n",
      "MIN_GEBAEUDEJAHR                 -0.039967\n",
      "OST_WEST_KZ                      -0.059624\n",
      "WOHNDAUER_2008                   -0.060786\n",
      "CAMEO_INTL_2015_AGE              -0.073043\n",
      "SEMIO_LUST                       -0.080112\n",
      "KBA13_ANZAHL_PKW                 -0.080867\n",
      "SEMIO_ERL                        -0.085647\n",
      "GREEN_AVANTGARDE                 -0.086025\n",
      "ANZ_PERSONEN                     -0.093885\n",
      "WOHNLAGE                         -0.097894\n",
      "FINANZ_VORSORGER                 -0.107802\n",
      "GEBAEUDETYP_RASTER               -0.113230\n",
      "ALTERSKATEGORIE_GROB             -0.117034\n",
      "LP_LEBENSPHASE_GROB              -0.128176\n",
      "BALLRAUM                         -0.135745\n",
      "LP_LEBENSPHASE_FEIN              -0.142355\n",
      "KONSUMNAEHE                      -0.163017\n",
      "PLZ8_GBZ                         -0.166730\n",
      "INNENSTADT                       -0.170816\n",
      "FINANZ_MINIMALIST                -0.201763\n",
      "KBA05_GBZ                        -0.208050\n",
      "KBA05_ANTG1                      -0.215392\n",
      "PLZ8_ANTG1                       -0.220261\n",
      "MOBI_REGIO                       -0.232264\n",
      "Name: 0, dtype: float64\n"
     ]
    }
   ],
   "source": [
    "# Map weights for the first principal component to corresponding feature names\n",
    "# and then print the linked values, sorted by weight.\n",
    "# HINT: Try defining a function here or in a new cell that you can reuse in the\n",
    "# other cells.\n",
    "\n",
    "def getWeights(dataset, pca, i):\n",
    "    df = pd.DataFrame(pca.components_, columns=list(dataset.columns))\n",
    "    weights = df.iloc[i].sort_values(ascending=False)\n",
    "    return weights\n",
    "\n",
    "weight = getWeights(azdias, pcaGeneral, 0)\n",
    "print(weight)\n"
   ]
  },
  {
   "cell_type": "code",
   "execution_count": 31,
   "metadata": {},
   "outputs": [
    {
     "name": "stdout",
     "output_type": "stream",
     "text": [
      "ALTERSKATEGORIE_GROB              0.262600\n",
      "SEMIO_ERL                         0.232885\n",
      "FINANZ_VORSORGER                  0.229289\n",
      "SEMIO_LUST                        0.180319\n",
      "RETOURTYP_BK_S                    0.167096\n",
      "SEMIO_KRIT                        0.117623\n",
      "W_KEIT_KIND_HH                    0.108656\n",
      "SEMIO_KAEM                        0.104589\n",
      "FINANZ_HAUSBAUER                  0.100058\n",
      "PLZ8_ANTG3                        0.089244\n",
      "ORTSGR_KLS9                       0.088152\n",
      "EWDICHTE                          0.088041\n",
      "PLZ8_ANTG4                        0.085849\n",
      "PLZ8_BAUMAX                       0.080940\n",
      "ANREDE_KZ                         0.080917\n",
      "FINANZ_MINIMALIST                 0.077571\n",
      "SEMIO_DOM                         0.068127\n",
      "CAMEO_INTL_2015_WEALTH            0.064124\n",
      "ARBEIT                            0.061900\n",
      "KBA05_ANTG4                       0.059841\n",
      "WOHNDAUER_2008                    0.059432\n",
      "RELAT_AB                          0.058540\n",
      "PLZ8_ANTG2                        0.056495\n",
      "ANZ_HAUSHALTE_AKTIV               0.051444\n",
      "KBA05_ANTG3                       0.040521\n",
      "HH_EINKOMMEN_SCORE                0.035246\n",
      "VERS_TYP                          0.029379\n",
      "ANZ_HH_TITEL                      0.027529\n",
      "REGIOTYP                          0.015849\n",
      "CAMEO_INTL_2015_AGE               0.012712\n",
      "PLZ8_HHZ                          0.012030\n",
      "PRAEGENDE_JUGENDJAHRE_MOVEMENT    0.009246\n",
      "ANZ_TITEL                         0.008584\n",
      "SOHO_KZ                          -0.001881\n",
      "KKK                              -0.003538\n",
      "GREEN_AVANTGARDE                 -0.009246\n",
      "KBA05_ANTG2                      -0.012990\n",
      "MIN_GEBAEUDEJAHR                 -0.025096\n",
      "OST_WEST_KZ                      -0.026782\n",
      "LP_LEBENSPHASE_FEIN              -0.031156\n",
      "KBA13_ANZAHL_PKW                 -0.035248\n",
      "LP_LEBENSPHASE_GROB              -0.037156\n",
      "GEBAEUDETYP_RASTER               -0.039102\n",
      "HEALTH_TYP                       -0.046620\n",
      "WOHNLAGE                         -0.056748\n",
      "ANZ_PERSONEN                     -0.057504\n",
      "BALLRAUM                         -0.060020\n",
      "SEMIO_VERT                       -0.061948\n",
      "KONSUMNAEHE                      -0.062319\n",
      "PLZ8_GBZ                         -0.070868\n",
      "INNENSTADT                       -0.072948\n",
      "KBA05_ANTG1                      -0.074705\n",
      "KBA05_GBZ                        -0.080446\n",
      "MOBI_REGIO                       -0.081420\n",
      "PLZ8_ANTG1                       -0.087944\n",
      "SEMIO_SOZ                        -0.099903\n",
      "ONLINE_AFFINITAET                -0.154378\n",
      "SEMIO_MAT                        -0.158677\n",
      "SEMIO_RAT                        -0.173766\n",
      "SEMIO_FAM                        -0.179698\n",
      "FINANZ_ANLEGER                   -0.207545\n",
      "SEMIO_KULT                       -0.219986\n",
      "FINANZ_UNAUFFAELLIGER            -0.225805\n",
      "SEMIO_TRADV                      -0.232146\n",
      "FINANZ_SPARER                    -0.239722\n",
      "SEMIO_PFLICHT                    -0.242691\n",
      "PRAEGENDE_JUGENDJAHRE_PERIOD     -0.254203\n",
      "SEMIO_REL                        -0.265920\n",
      "Name: 1, dtype: float64\n"
     ]
    }
   ],
   "source": [
    "# Map weights for the second principal component to corresponding feature names\n",
    "# and then print the linked values, sorted by weight.\n",
    "weight = getWeights(azdias, pcaGeneral, 1)\n",
    "print(weight)\n",
    "   "
   ]
  },
  {
   "cell_type": "code",
   "execution_count": 32,
   "metadata": {},
   "outputs": [
    {
     "name": "stdout",
     "output_type": "stream",
     "text": [
      "SEMIO_VERT                        0.350860\n",
      "SEMIO_SOZ                         0.265612\n",
      "SEMIO_FAM                         0.254122\n",
      "SEMIO_KULT                        0.230042\n",
      "FINANZ_MINIMALIST                 0.171353\n",
      "RETOURTYP_BK_S                    0.111558\n",
      "FINANZ_VORSORGER                  0.094408\n",
      "W_KEIT_KIND_HH                    0.086547\n",
      "ALTERSKATEGORIE_GROB              0.078114\n",
      "SEMIO_REL                         0.071521\n",
      "SEMIO_LUST                        0.068987\n",
      "GREEN_AVANTGARDE                  0.061962\n",
      "SEMIO_MAT                         0.042640\n",
      "PLZ8_BAUMAX                       0.040615\n",
      "ORTSGR_KLS9                       0.039812\n",
      "EWDICHTE                          0.039219\n",
      "PLZ8_ANTG4                        0.037692\n",
      "PLZ8_ANTG3                        0.036131\n",
      "VERS_TYP                          0.034967\n",
      "WOHNDAUER_2008                    0.034708\n",
      "ARBEIT                            0.025958\n",
      "RELAT_AB                          0.024616\n",
      "PLZ8_ANTG2                        0.022872\n",
      "KBA05_ANTG4                       0.021929\n",
      "ANZ_HAUSHALTE_AKTIV               0.020565\n",
      "CAMEO_INTL_2015_WEALTH            0.019843\n",
      "ANZ_HH_TITEL                      0.012603\n",
      "ANZ_TITEL                         0.010849\n",
      "LP_LEBENSPHASE_FEIN               0.010305\n",
      "HEALTH_TYP                        0.008716\n",
      "LP_LEBENSPHASE_GROB               0.006829\n",
      "PLZ8_HHZ                          0.004521\n",
      "ANZ_PERSONEN                      0.003165\n",
      "SOHO_KZ                           0.000913\n",
      "CAMEO_INTL_2015_AGE              -0.000949\n",
      "KBA05_ANTG3                      -0.001294\n",
      "MIN_GEBAEUDEJAHR                 -0.007107\n",
      "REGIOTYP                         -0.007575\n",
      "OST_WEST_KZ                      -0.010156\n",
      "KBA05_ANTG2                      -0.012377\n",
      "KBA05_ANTG1                      -0.013576\n",
      "KBA05_GBZ                        -0.017002\n",
      "WOHNLAGE                         -0.018502\n",
      "KKK                              -0.018773\n",
      "KBA13_ANZAHL_PKW                 -0.019697\n",
      "MOBI_REGIO                       -0.020041\n",
      "GEBAEUDETYP_RASTER               -0.028495\n",
      "BALLRAUM                         -0.030015\n",
      "PLZ8_GBZ                         -0.031844\n",
      "KONSUMNAEHE                      -0.032518\n",
      "INNENSTADT                       -0.036895\n",
      "HH_EINKOMMEN_SCORE               -0.036968\n",
      "PLZ8_ANTG1                       -0.038151\n",
      "ONLINE_AFFINITAET                -0.048142\n",
      "PRAEGENDE_JUGENDJAHRE_MOVEMENT   -0.061962\n",
      "FINANZ_HAUSBAUER                 -0.062972\n",
      "SEMIO_PFLICHT                    -0.074021\n",
      "SEMIO_TRADV                      -0.088493\n",
      "FINANZ_UNAUFFAELLIGER            -0.088962\n",
      "FINANZ_SPARER                    -0.100171\n",
      "PRAEGENDE_JUGENDJAHRE_PERIOD     -0.103334\n",
      "SEMIO_ERL                        -0.168927\n",
      "FINANZ_ANLEGER                   -0.186941\n",
      "SEMIO_RAT                        -0.223055\n",
      "SEMIO_KRIT                       -0.266850\n",
      "SEMIO_DOM                        -0.310742\n",
      "SEMIO_KAEM                       -0.339467\n",
      "ANREDE_KZ                        -0.369930\n",
      "Name: 2, dtype: float64\n"
     ]
    }
   ],
   "source": [
    "# Map weights for the third principal component to corresponding feature names\n",
    "# and then print the linked values, sorted by weight.\n",
    "\n",
    "weight = getWeights(azdias, pcaGeneral, 2)\n",
    "print(weight)"
   ]
  },
  {
   "cell_type": "markdown",
   "metadata": {},
   "source": [
    "### Discussion 2.3: Interpret Principal Components\n",
    "#### The first principal component\n",
    "I Start by looking at the Data_Dictionary.md to find information about the data for the first principal component\n",
    "\n",
    "the top positive weight are listed below\n",
    "\n",
    "PLZ8_ANTG3: Number of 6-10 family houses in the PLZ8 region\n",
    "PLZ8_ANTG4: Number of 10+ family houses in the PLZ8 region\n",
    "PLZ8_BAUMAX: Most Common Building types\n",
    "ORTSGR_KLS9: Community Size\n",
    "EWDICHTE: Density of households per square kilometer\n",
    "CAMEO_INTL_2015_WEALTH: Wealth info\n",
    "HH_EINKOMMEN_SCORE : Estimated household net income\n",
    "\n",
    "PLZ8_ANTG3                        0.221289\n",
    "PLZ8_ANTG4                        0.216441\n",
    "PLZ8_BAUMAX                       0.210318\n",
    "ORTSGR_KLS9                       0.203724\n",
    "EWDICHTE                          0.200916\n",
    "CAMEO_INTL_2015_WEALTH            0.186601\n",
    "HH_EINKOMMEN_SCORE                0.178074\n",
    "\n",
    "We see there is a high relation about how many you live together, the density of people, the building types and the financial status."
   ]
  },
  {
   "cell_type": "markdown",
   "metadata": {},
   "source": [
    "## Step 3: Clustering\n",
    "\n",
    "### Step 3.1: Apply Clustering to General Population\n",
    "\n",
    "You've assessed and cleaned the demographics data, then scaled and transformed them. Now, it's time to see how the data clusters in the principal components space. In this substep, you will apply k-means clustering to the dataset and use the average within-cluster distances from each point to their assigned cluster's centroid to decide on a number of clusters to keep.\n",
    "\n",
    "- Use sklearn's [KMeans](http://scikit-learn.org/stable/modules/generated/sklearn.cluster.KMeans.html#sklearn.cluster.KMeans) class to perform k-means clustering on the PCA-transformed data.\n",
    "- Then, compute the average difference from each point to its assigned cluster's center. **Hint**: The KMeans object's `.score()` method might be useful here, but note that in sklearn, scores tend to be defined so that larger is better. Try applying it to a small, toy dataset, or use an internet search to help your understanding.\n",
    "- Perform the above two steps for a number of different cluster counts. You can then see how the average distance decreases with an increasing number of clusters. However, each additional cluster provides a smaller net benefit. Use this fact to select a final number of clusters in which to group the data. **Warning**: because of the large size of the dataset, it can take a long time for the algorithm to resolve. The more clusters to fit, the longer the algorithm will take. You should test for cluster counts through at least 10 clusters to get the full picture, but you shouldn't need to test for a number of clusters above about 30.\n",
    "- Once you've selected a final number of clusters to use, re-fit a KMeans instance to perform the clustering operation. Make sure that you also obtain the cluster assignments for the general demographics data, since you'll be using them in the final Step 3.3."
   ]
  },
  {
   "cell_type": "code",
   "execution_count": 33,
   "metadata": {},
   "outputs": [
    {
     "data": {
      "text/plain": [
       "'\\nscores = []\\nfor i in range(1, 20):\\n    # run k-means clustering on the data and...\\n    km=executeKMeans(azdias,i)\\n    score = np.abs(km.score(azdias)) #use absolute value\\n    scores.append(score)\\n'"
      ]
     },
     "execution_count": 33,
     "metadata": {},
     "output_type": "execute_result"
    }
   ],
   "source": [
    "\n",
    "from sklearn.cluster import KMeans\n",
    "#https://towardsdatascience.com/k-means-clustering-with-scikit-learn-6b47a369a83c\n",
    "def executeKMeans(data,clusterCount):\n",
    "    km = KMeans(\n",
    "        n_clusters=clusterCount, init='random',\n",
    "         random_state=0\n",
    "        )\n",
    "    km.fit(data)\n",
    "    return km\n",
    "\n",
    "# Over a number of different cluster counts...\n",
    "'''\n",
    "scores = []\n",
    "for i in range(1, 20):\n",
    "    # run k-means clustering on the data and...\n",
    "    km=executeKMeans(azdias,i)\n",
    "    score = np.abs(km.score(azdias)) #use absolute value\n",
    "    scores.append(score)\n",
    "'''\n",
    "\n",
    "    \n"
   ]
  },
  {
   "cell_type": "code",
   "execution_count": 34,
   "metadata": {},
   "outputs": [
    {
     "data": {
      "text/plain": [
       "\"\\n# Investigate the change in within-cluster distance across number of clusters.\\n# HINT: Use matplotlib's plot function to visualize this relationship.\\n# plot\\nplt.plot(range(1, 20), scores, marker='o')\\nplt.xlabel('Number of clusters')\\nplt.ylabel('Score')\\nplt.show()\\n\""
      ]
     },
     "execution_count": 34,
     "metadata": {},
     "output_type": "execute_result"
    }
   ],
   "source": [
    "'''\n",
    "# Investigate the change in within-cluster distance across number of clusters.\n",
    "# HINT: Use matplotlib's plot function to visualize this relationship.\n",
    "# plot\n",
    "plt.plot(range(1, 20), scores, marker='o')\n",
    "plt.xlabel('Number of clusters')\n",
    "plt.ylabel('Score')\n",
    "plt.show()\n",
    "'''"
   ]
  },
  {
   "cell_type": "code",
   "execution_count": 35,
   "metadata": {},
   "outputs": [],
   "source": [
    "# Re-fit the k-means model with the selected number of clusters and obtain\n",
    "# cluster predictions for the general population demographics data.\n",
    "clusterCount = 12\n",
    "km=executeKMeans(genralScaleResult, clusterCount)\n",
    "generalResult = km.predict(genralScaleResult)\n",
    "\n"
   ]
  },
  {
   "cell_type": "code",
   "execution_count": 36,
   "metadata": {},
   "outputs": [],
   "source": [
    "generalDataset = azdias"
   ]
  },
  {
   "cell_type": "code",
   "execution_count": null,
   "metadata": {},
   "outputs": [],
   "source": []
  },
  {
   "cell_type": "raw",
   "metadata": {},
   "source": []
  },
  {
   "cell_type": "markdown",
   "metadata": {},
   "source": [
    "### Discussion 3.1: Apply Clustering to General Population\n",
    "\n",
    "by looking at the plot I choose 12 as my cluster count. Between 1 and 5 there is a really steep decline, and after 10-12 there seems to be a minor significant changes."
   ]
  },
  {
   "cell_type": "markdown",
   "metadata": {},
   "source": [
    "### Step 3.2: Apply All Steps to the Customer Data\n",
    "\n",
    "Now that you have clusters and cluster centers for the general population, it's time to see how the customer data maps on to those clusters. Take care to not confuse this for re-fitting all of the models to the customer data. Instead, you're going to use the fits from the general population to clean, transform, and cluster the customer data. In the last step of the project, you will interpret how the general population fits apply to the customer data.\n",
    "\n",
    "- Don't forget when loading in the customers data, that it is semicolon (`;`) delimited.\n",
    "- Apply the same feature wrangling, selection, and engineering steps to the customer demographics using the `clean_data()` function you created earlier. (You can assume that the customer demographics data has similar meaning behind missing data patterns as the general demographics data.)\n",
    "- Use the sklearn objects from the general demographics data, and apply their transformations to the customers data. That is, you should not be using a `.fit()` or `.fit_transform()` method to re-fit the old objects, nor should you be creating new sklearn objects! Carry the data through the feature scaling, PCA, and clustering steps, obtaining cluster assignments for all of the data in the customer demographics data."
   ]
  },
  {
   "cell_type": "code",
   "execution_count": 37,
   "metadata": {},
   "outputs": [
    {
     "name": "stdout",
     "output_type": "stream",
     "text": [
      "PRAEGENDE_JUGENDJAHRE_MOVEMENT not in Udacity_CUSTOMERS_Subset\n",
      "PRAEGENDE_JUGENDJAHRE_PERIOD not in Udacity_CUSTOMERS_Subset\n",
      "CAMEO_INTL_2015_WEALTH not in Udacity_CUSTOMERS_Subset\n",
      "CAMEO_INTL_2015_AGE not in Udacity_CUSTOMERS_Subset\n",
      "Removing AGER_TYP\n",
      "Removing CJT_GESAMTTYP\n",
      "Removing FINANZTYP\n",
      "Removing GEBURTSJAHR\n",
      "Removing GFK_URLAUBERTYP\n",
      "Removing LP_FAMILIE_FEIN\n",
      "Removing LP_FAMILIE_GROB\n",
      "Removing LP_STATUS_FEIN\n",
      "Removing LP_STATUS_GROB\n",
      "Removing NATIONALITAET_KZ\n",
      "Removing PRAEGENDE_JUGENDJAHRE\n",
      "Removing SHOPPER_TYP\n",
      "Removing TITEL_KZ\n",
      "Removing ZABEOTYP\n",
      "Removing ALTER_HH\n",
      "Removing KK_KUNDENTYP\n",
      "Removing GEBAEUDETYP\n",
      "Removing CAMEO_DEUG_2015\n",
      "Removing CAMEO_DEU_2015\n",
      "Removing CAMEO_INTL_2015\n",
      "Removing KBA05_BAUMAX\n"
     ]
    }
   ],
   "source": [
    "# Load in the customer demographics data.\n",
    "customers = pd.read_csv('Udacity_CUSTOMERS_Subset.csv', sep=';')\n",
    "\n",
    "for clm in generalDataset.columns:\n",
    "    if clm not in customers:\n",
    "        print(clm + \" not in Udacity_CUSTOMERS_Subset\")\n",
    "        \n",
    "for clm in customers.columns:\n",
    "    if clm not in generalDataset:\n",
    "        print(\"Removing \" + clm)\n",
    "        customers = customers.drop(clm, axis=1)\n",
    "        \n"
   ]
  },
  {
   "cell_type": "code",
   "execution_count": 38,
   "metadata": {},
   "outputs": [
    {
     "name": "stdout",
     "output_type": "stream",
     "text": [
      "Removing 0 Columns  because they have more than 200000 nulls\n",
      "Series([], dtype: int64)\n",
      "(191652, 64)\n",
      "(191652, 64)\n"
     ]
    }
   ],
   "source": [
    "# Apply preprocessing, feature transformation, and clustering from the general\n",
    "# demographics onto the customer data, obtaining cluster predictions for the\n",
    "# customer demographics data.\n",
    "\n",
    "customers = clean_data(customers)\n",
    "customers= customers.dropna(axis=0)\n",
    "customersScaleResult= do_scale(customers)\n",
    "\n",
    "pcaCustomers, x_pcaCustomers = do_pca(10, customersScaleResult)\n",
    "\n",
    "kmCustomer = executeKMeans(customersScaleResult, clusterCount)\n",
    "customerResult = kmCustomer.predict(customersScaleResult)\n",
    "\n"
   ]
  },
  {
   "cell_type": "code",
   "execution_count": null,
   "metadata": {},
   "outputs": [],
   "source": [
    "\n"
   ]
  },
  {
   "cell_type": "markdown",
   "metadata": {},
   "source": [
    "### Step 3.3: Compare Customer Data to Demographics Data\n",
    "\n",
    "At this point, you have clustered data based on demographics of the general population of Germany, and seen how the customer data for a mail-order sales company maps onto those demographic clusters. In this final substep, you will compare the two cluster distributions to see where the strongest customer base for the company is.\n",
    "\n",
    "Consider the proportion of persons in each cluster for the general population, and the proportions for the customers. If we think the company's customer base to be universal, then the cluster assignment proportions should be fairly similar between the two. If there are only particular segments of the population that are interested in the company's products, then we should see a mismatch from one to the other. If there is a higher proportion of persons in a cluster for the customer data compared to the general population (e.g. 5% of persons are assigned to a cluster for the general population, but 15% of the customer data is closest to that cluster's centroid) then that suggests the people in that cluster to be a target audience for the company. On the other hand, the proportion of the data in a cluster being larger in the general population than the customer data (e.g. only 2% of customers closest to a population centroid that captures 6% of the data) suggests that group of persons to be outside of the target demographics.\n",
    "\n",
    "Take a look at the following points in this step:\n",
    "\n",
    "- Compute the proportion of data points in each cluster for the general population and the customer data. Visualizations will be useful here: both for the individual dataset proportions, but also to visualize the ratios in cluster representation between groups. Seaborn's [`countplot()`](https://seaborn.pydata.org/generated/seaborn.countplot.html) or [`barplot()`](https://seaborn.pydata.org/generated/seaborn.barplot.html) function could be handy.\n",
    "  - Recall the analysis you performed in step 1.1.3 of the project, where you separated out certain data points from the dataset if they had more than a specified threshold of missing values. If you found that this group was qualitatively different from the main bulk of the data, you should treat this as an additional data cluster in this analysis. Make sure that you account for the number of data points in this subset, for both the general population and customer datasets, when making your computations!\n",
    "- Which cluster or clusters are overrepresented in the customer dataset compared to the general population? Select at least one such cluster and infer what kind of people might be represented by that cluster. Use the principal component interpretations from step 2.3 or look at additional components to help you make this inference. Alternatively, you can use the `.inverse_transform()` method of the PCA and StandardScaler objects to transform centroids back to the original data space and interpret the retrieved values directly.\n",
    "- Perform a similar investigation for the underrepresented clusters. Which cluster or clusters are underrepresented in the customer dataset compared to the general population, and what kinds of people are typified by these clusters?"
   ]
  },
  {
   "cell_type": "code",
   "execution_count": 39,
   "metadata": {},
   "outputs": [
    {
     "name": "stdout",
     "output_type": "stream",
     "text": [
      "Customers vs General Proportion\n",
      "0.1321685668032928/0.10488181172339434\n",
      "0.0927048530981986/0.07204926140796104\n",
      "0.030801157303757792/0.05861503587944815\n",
      "0.13223745393173286/0.1014767969244528\n",
      "0.14735817862432404/0.09328462942637405\n",
      "0.06369476113388213/0.09964749676242908\n",
      "0.08764164915785486/0.09499971931373176\n",
      "0.0793235283987187/0.10902241812187978\n",
      "0.08163124720146041/0.0032249884337899807\n",
      "0.10402817483553198/0.10969606516567265\n",
      "0.04655047704336445/0.06295696208412457\n",
      "0.0018599524678813764/0.0901448147567418\n"
     ]
    },
    {
     "data": {
      "image/png": "[encoded data removed]",
      "text/plain": [
       "<Figure size 432x288 with 1 Axes>"
      ]
     },
     "metadata": {
      "needs_background": "light"
     },
     "output_type": "display_data"
    },
    {
     "data": {
      "image/png": "[encoded data removed]",
      "text/plain": [
       "<Figure size 432x288 with 1 Axes>"
      ]
     },
     "metadata": {
      "needs_background": "light"
     },
     "output_type": "display_data"
    },
    {
     "data": {
      "text/plain": [
       "list"
      ]
     },
     "execution_count": 39,
     "metadata": {},
     "output_type": "execute_result"
    }
   ],
   "source": [
    "# Compare the proportion of data in each cluster for the customer data to the\n",
    "# proportion of data in each cluster for the general population.\n",
    "\n",
    "from collections import Counter, defaultdict\n",
    "customerProportion = Counter(kmCustomer.labels_)\n",
    "generalProportion = Counter(km.labels_)\n",
    "\n",
    "\n",
    "customerlen = len(customerResult)\n",
    "print(\"Customers vs General Proportion\")\n",
    "for x in customerProportion:\n",
    "    print(str(customerProportion[x]/len(customerResult)) + \"/\" + str(generalProportion[x]/len(generalResult)))\n",
    "\n",
    "cp = map(lambda x: x/len(customerResult), list(customerProportion.values()) )\n",
    "plt.bar(customerProportion.keys(), list(cp))\n",
    "plt.title('Customer Proportion')\n",
    "plt.show()\n",
    "\n",
    "gp = map(lambda x: x/len(generalResult), list(generalProportion.values()) )\n",
    "plt.bar(generalProportion.keys(), list(gp))\n",
    "plt.title('General Proportion')\n",
    "plt.show()\n",
    "\n",
    "type(list(generalProportion.values()))"
   ]
  },
  {
   "cell_type": "code",
   "execution_count": 40,
   "metadata": {},
   "outputs": [],
   "source": [
    "def examineCluster(pca, X_pca, predictions, _columns, columnIndex):\n",
    "    pca_inv = pca.inverse_transform(X_pca[predictions == columnIndex])\n",
    "    scale_inv = scaler.inverse_transform(pca_inv)\n",
    "    data = pd.DataFrame(scale_inv, columns = _columns).round()\n",
    "    return data"
   ]
  },
  {
   "cell_type": "code",
   "execution_count": 41,
   "metadata": {},
   "outputs": [],
   "source": [
    "#https://www.geeksforgeeks.org/python-indices-of-n-largest-elements-in-list/\n",
    "def maxElements(list1, N): \n",
    "    return sorted(range(len(list1)), key = lambda sub: list1[sub])[-N:]"
   ]
  },
  {
   "cell_type": "code",
   "execution_count": 57,
   "metadata": {},
   "outputs": [],
   "source": [
    "def plotDifference(a,b, index, printMaxN):\n",
    "    aVals= a.iloc[index]\n",
    "    bVals=b.iloc[index]\n",
    "    diffs=[]\n",
    "    for index, aValue in aVals.items():\n",
    "        bValue= bVals[index]\n",
    "        diff = abs(aValue-bValue)\n",
    "        diffs.append(diff)\n",
    "     \n",
    "    for maxColumn in maxElements(diffs, printMaxN):\n",
    "        if aVals[maxColumn] > bVals[maxColumn]:\n",
    "            column= \"Column + #\"\n",
    "        else: column= \"Column - #\"\n",
    "                            \n",
    "        print(column +str(maxColumn) + \" \" + a.columns[maxColumn] + \" : \" +\"arg1 \" + str(aVals[maxColumn])+ \" arg2 \" + str(bVals[maxColumn]))\n",
    "    \n",
    "    plt.figure(figsize=(10, 6))\n",
    "    xs = np.arange(len(diffs)) \n",
    "    plt.bar(xs, diffs, 0.5, align='center')"
   ]
  },
  {
   "cell_type": "code",
   "execution_count": 58,
   "metadata": {},
   "outputs": [
    {
     "name": "stdout",
     "output_type": "stream",
     "text": [
      "Column - #27 SOHO_KZ : arg1 0.0 arg2 0.0\n",
      "Column - #11 LP_LEBENSPHASE_GROB : arg1 0.9758942996934463 arg2 0.9943411912823353\n",
      "Column - #29 ANZ_PERSONEN : arg1 0.9324809676139197 arg2 0.9567995010519226\n",
      "Column - #32 W_KEIT_KIND_HH : arg1 0.8530646138825574 arg2 0.8840203935894091\n",
      "Column - #10 LP_LEBENSPHASE_FEIN : arg1 0.9632712272013423 arg2 0.9989456893793005\n",
      "Column - #18 SEMIO_LUST : arg1 0.542145148492223 arg2 0.6476231112349273\n",
      "Column - #60 PLZ8_GBZ : arg1 0.879726900254273 arg2 0.9925781489887943\n",
      "Column + #53 KBA13_ANZAHL_PKW : arg1 1.0637712798572685 arg2 0.9494566733544076\n",
      "Column - #0 ALTERSKATEGORIE_GROB : arg1 0.6331409501377468 arg2 0.7508118674855399\n",
      "Column - #51 ONLINE_AFFINITAET : arg1 0.6527147084387485 arg2 0.8201550383555589\n",
      "Column - #25 SEMIO_PFLICHT : arg1 0.5787556572706324 arg2 0.7537616546509792\n",
      "Column - #4 FINANZ_VORSORGER : arg1 0.6196331809977079 arg2 0.7951442279100874\n",
      "Column - #31 HH_EINKOMMEN_SCORE : arg1 0.6414217849495875 arg2 0.8236587326226001\n",
      "Column - #12 RETOURTYP_BK_S : arg1 0.4711493301093097 arg2 0.6637455877548992\n",
      "Column + #59 PLZ8_HHZ : arg1 1.1319139364196509 arg2 0.9305408978357841\n",
      "Column - #39 WOHNLAGE : arg1 0.5377219983856282 arg2 0.7480254106674414\n",
      "Column - #6 FINANZ_UNAUFFAELLIGER : arg1 0.5649078423428686 arg2 0.7797784255340352\n",
      "Column - #26 SEMIO_TRADV : arg1 0.5418242253017147 arg2 0.7583137514432757\n",
      "Column - #7 FINANZ_HAUSBAUER : arg1 0.5363332071911763 arg2 0.7633675582237703\n",
      "Column - #38 OST_WEST_KZ : arg1 0.5698106124881738 arg2 0.7977297457768029\n",
      "Column - #9 HEALTH_TYP : arg1 0.5099139088119833 arg2 0.7402539747516493\n",
      "Column - #33 WOHNDAUER_2008 : arg1 0.26641353331125345 arg2 0.5023146694154391\n",
      "Column - #3 FINANZ_SPARER : arg1 0.6131341055196832 arg2 0.8509159250201335\n",
      "Column - #16 SEMIO_MAT : arg1 0.5209854541187832 arg2 0.7673280091761445\n",
      "Column - #28 VERS_TYP : arg1 0.4336210689241677 arg2 0.6810971333589478\n",
      "Column - #54 PLZ8_ANTG1 : arg1 0.5474246536215591 arg2 0.8095304894337212\n",
      "Column - #56 PLZ8_ANTG3 : arg1 0.5533624358287105 arg2 0.8190800575279874\n",
      "Column - #30 ANZ_TITEL : arg1 0.2604104135396723 arg2 0.5278319597809962\n",
      "Column - #36 KONSUMNAEHE : arg1 0.53137815589398 arg2 0.8018102533614033\n",
      "Column - #40 KBA05_ANTG1 : arg1 0.5891381974931634 arg2 0.8680350323289718\n",
      "Column - #5 FINANZ_ANLEGER : arg1 0.5733347710312771 arg2 0.8599890917334694\n",
      "Column - #21 SEMIO_RAT : arg1 0.5019406719308128 arg2 0.7944495690128643\n",
      "Column - #52 REGIOTYP : arg1 0.7298066141786015 arg2 1.023595500062291\n",
      "Column - #62 ORTSGR_KLS9 : arg1 0.5969314308069019 arg2 0.9310149717986456\n",
      "Column - #46 EWDICHTE : arg1 0.5716188330269489 arg2 0.9057562939841707\n",
      "Column - #61 ARBEIT : arg1 0.6367406886728325 arg2 0.9728795577508886\n",
      "Column - #2 FINANZ_MINIMALIST : arg1 0.4585120651422546 arg2 0.8036773468439007\n",
      "Column - #8 GREEN_AVANTGARDE : arg1 0.634221158845002 arg2 0.9796329972293846\n",
      "Column - #63 RELAT_AB : arg1 0.4927880454361289 arg2 0.8434007886624655\n",
      "Column - #47 INNENSTADT : arg1 0.4743538952656016 arg2 0.8274567569877463\n",
      "Column - #45 BALLRAUM : arg1 0.4796340177195575 arg2 0.8413352124912685\n",
      "Column - #49 KKK : arg1 0.7539605938770709 arg2 1.1452897622085616\n",
      "Column - #15 SEMIO_REL : arg1 0.3950305095011257 arg2 0.8001611743666294\n",
      "Column - #23 SEMIO_DOM : arg1 0.445807636367466 arg2 0.8834915211546918\n",
      "Column - #55 PLZ8_ANTG2 : arg1 0.621263376380636 arg2 1.0699357034272137\n",
      "Column - #42 KBA05_ANTG3 : arg1 0.5333360931465565 arg2 0.993295028864093\n",
      "Column - #20 SEMIO_KULT : arg1 0.40481419152752146 arg2 0.8675631106640498\n",
      "Column - #37 MIN_GEBAEUDEJAHR : arg1 0.0780149905818756 arg2 0.5563097599146969\n",
      "Column - #58 PLZ8_BAUMAX : arg1 0.4994424836628413 arg2 0.9848688874306563\n",
      "Column - #50 MOBI_REGIO : arg1 0.566252730293663 arg2 1.0824677557898221\n",
      "Column - #19 SEMIO_ERL : arg1 0.3297092006682367 arg2 0.8504531553760389\n",
      "Column - #57 PLZ8_ANTG4 : arg1 0.47761590222705097 arg2 1.0386551375557065\n",
      "Column - #22 SEMIO_KRIT : arg1 0.24959220440601035 arg2 0.8655520740416928\n",
      "Column - #1 ANREDE_KZ : arg1 0.33912237637752307 arg2 0.9775676301948958\n",
      "Column - #48 GEBAEUDETYP_RASTER : arg1 0.4668870449518669 arg2 1.1149876497808675\n",
      "Column - #44 KBA05_GBZ : arg1 0.5357538451768672 arg2 1.1943271803875053\n",
      "Column - #35 ANZ_HH_TITEL : arg1 0.36439628442759536 arg2 1.0606971763271615\n",
      "Column - #13 SEMIO_SOZ : arg1 0.09371858369555802 arg2 0.8436535824694663\n",
      "Column - #17 SEMIO_VERT : arg1 0.16532232022417992 arg2 0.9491579957524975\n",
      "Column - #14 SEMIO_FAM : arg1 0.16881213876878595 arg2 0.9652378074657798\n",
      "Column - #24 SEMIO_KAEM : arg1 0.14693758418340166 arg2 0.963222604479873\n",
      "Column - #41 KBA05_ANTG2 : arg1 0.4788937193058495 arg2 1.5202585622387035\n",
      "Column - #34 ANZ_HAUSHALTE_AKTIV : arg1 0.3104080611443784 arg2 1.771350665842512\n",
      "Column - #43 KBA05_ANTG4 : arg1 0.35708020531423 arg2 1.9984012442708579\n"
     ]
    },
    {
     "data": {
      "image/png": "[encoded data removed]",
      "text/plain": [
       "<Figure size 720x432 with 1 Axes>"
      ]
     },
     "metadata": {
      "needs_background": "light"
     },
     "output_type": "display_data"
    }
   ],
   "source": [
    "# What kinds of people are part of a cluster that is overrepresented in the\n",
    "# customer data compared to the general population?\n",
    "\n",
    "#Customer\n",
    "scaler.fit(customersScaleResult)\n",
    "resultC = examineCluster(pcaCustomers, x_pcaCustomers,customerResult,  customers.columns, 5).describe()\n",
    "\n",
    "#General\n",
    "scaler.fit(genralScaleResult)\n",
    "resultG= examineCluster(pcaGeneral, x_pcaGeneral, generalResult,  generalDataset.columns, 5).describe()\n",
    "\n",
    "plotDifference(resultC,resultG,2, len(customers.columns))\n",
    "#Column #59 PLZ8_HHZ, #53 KBA13_ANZAHL_PKW\n"
   ]
  },
  {
   "cell_type": "code",
   "execution_count": 44,
   "metadata": {},
   "outputs": [
    {
     "name": "stdout",
     "output_type": "stream",
     "text": [
      "Column.b 41 KBA05_ANTG2 : arg1 2.349171056173388 arg2 0.49548289162622433\n",
      "Column.b 43 KBA05_ANTG4 : arg1 2.7646719249692495 arg2 0.5419647258291903\n",
      "Column.b 34 ANZ_HAUSHALTE_AKTIV : arg1 3.4103126774739487 arg2 0.489995722355341\n",
      "Column.b 35 ANZ_HH_TITEL : arg1 3.339422732456393 arg2 0.22605874985131066\n"
     ]
    },
    {
     "data": {
      "text/plain": [
       "'\\nColumn 41 KBA05_ANTG2\\narg1 2.1591651096465263 arg2 0.4900897023180178\\n--------------------\\nColumn 43 KBA05_ANTG4\\narg1 2.6091297667105176 arg2 0.5417653648170362\\n--------------------\\nColumn 34 ANZ_HAUSHALTE_AKTIV\\narg1 3.4323253079815275 arg2 0.4886242650133132\\n--------------------\\nColumn 35 ANZ_HH_TITEL\\narg1 3.536590449414604 arg2 0.20032863079161678\\n\\n'"
      ]
     },
     "execution_count": 44,
     "metadata": {},
     "output_type": "execute_result"
    },
    {
     "data": {
      "image/png": "[encoded data removed]",
      "text/plain": [
       "<Figure size 720x432 with 1 Axes>"
      ]
     },
     "metadata": {
      "needs_background": "light"
     },
     "output_type": "display_data"
    }
   ],
   "source": [
    "# What kinds of people are part of a cluster that is underrepresented in the\n",
    "# customer data compared to the general population?\n",
    "\n",
    "scaler.fit_transform(customersScaleResult)\n",
    "resultC= examineCluster(pcaCustomers, x_pcaCustomers,customerResult,  customers.columns, 7).describe()\n",
    "\n",
    "scaler.fit_transform(genralScaleResult)\n",
    "resultG= examineCluster(pcaGeneral, x_pcaGeneral, generalResult,  generalDataset.columns, 7).describe()\n",
    "\n",
    "plotDifference(resultC,resultG,2,4)\n",
    "\n",
    "'''\n",
    "Column 41 KBA05_ANTG2\n",
    "arg1 2.1591651096465263 arg2 0.4900897023180178\n",
    "--------------------\n",
    "Column 43 KBA05_ANTG4\n",
    "arg1 2.6091297667105176 arg2 0.5417653648170362\n",
    "--------------------\n",
    "Column 34 ANZ_HAUSHALTE_AKTIV\n",
    "arg1 3.4323253079815275 arg2 0.4886242650133132\n",
    "--------------------\n",
    "Column 35 ANZ_HH_TITEL\n",
    "arg1 3.536590449414604 arg2 0.20032863079161678\n",
    "\n",
    "'''"
   ]
  },
  {
   "cell_type": "markdown",
   "metadata": {},
   "source": [
    "### Discussion 3.3: Compare Customer Data to Demographics Data\n",
    "\n",
    "By looking at the graph, it looks like "
   ]
  },
  {
   "cell_type": "markdown",
   "metadata": {},
   "source": [
    "> Congratulations on making it this far in the project! Before you finish, make sure to check through the entire notebook from top to bottom to make sure that your analysis follows a logical flow and all of your findings are documented in **Discussion** cells. Once you've checked over all of your work, you should export the notebook as an HTML document to submit for evaluation. You can do this from the menu, navigating to **File -> Download as -> HTML (.html)**. You will submit both that document and this notebook for your project submission."
   ]
  },
  {
   "cell_type": "markdown",
   "metadata": {},
   "source": []
  },
  {
   "cell_type": "code",
   "execution_count": null,
   "metadata": {},
   "outputs": [],
   "source": []
  },
  {
   "cell_type": "code",
   "execution_count": null,
   "metadata": {},
   "outputs": [],
   "source": []
  },
  {
   "cell_type": "code",
   "execution_count": null,
   "metadata": {},
   "outputs": [],
   "source": []
  },
  {
   "cell_type": "code",
   "execution_count": null,
   "metadata": {},
   "outputs": [],
   "source": []
  },
  {
   "cell_type": "code",
   "execution_count": null,
   "metadata": {},
   "outputs": [],
   "source": []
  }
 ],
 "metadata": {
  "kernelspec": {
   "display_name": "Python 3",
   "language": "python",
   "name": "python3"
  },
  "language_info": {
   "codemirror_mode": {
    "name": "ipython",
    "version": 3
   },
   "file_extension": ".py",
   "mimetype": "text/x-python",
   "name": "python",
   "nbconvert_exporter": "python",
   "pygments_lexer": "ipython3",
   "version": "3.7.4"
  }
 },
 "nbformat": 4,
 "nbformat_minor": 2
}
